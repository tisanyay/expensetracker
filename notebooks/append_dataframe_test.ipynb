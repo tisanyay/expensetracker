{
 "cells": [
  {
   "cell_type": "code",
   "execution_count": 9,
   "metadata": {},
   "outputs": [],
   "source": [
    "import pandas as pd\n",
    "import numpy as np\n",
    "import io\n",
    "import re\n",
    "import csv\n",
    "\n",
    "test_directory = \"../transaction_history_csv/test.csv\"\n",
    "transaction_directory = \"../transaction_history_csv/jun-sep copy.csv\""
   ]
  },
  {
   "cell_type": "code",
   "execution_count": 3,
   "metadata": {},
   "outputs": [],
   "source": [
    "def check_if_line_is_valid(line):\n",
    "    line = line.strip()\n",
    "    comma_count = line.count(',')\n",
    "\n",
    "    if comma_count == 1 or comma_count > 8:\n",
    "        return \n",
    "    \n",
    "    if comma_count == 6:\n",
    "        return line\n",
    "\n",
    "    surplus_commas = comma_count - 6\n",
    "    line = line[:-surplus_commas]\n",
    "\n",
    "    if line.count(',') == 6:\n",
    "        return line\n",
    "    "
   ]
  },
  {
   "cell_type": "code",
   "execution_count": 11,
   "metadata": {},
   "outputs": [
    {
     "name": "stdout",
     "output_type": "stream",
     "text": [
      "Transaction Date,Reference,Debit Amount,Credit Amount,Transaction Ref1,Transaction Ref2,Transaction Ref3\n",
      "01 Sep 2024,UMC-S, 1.71, ,BUS/MRT 492755880      SI NG 23AUG,5264-7110-0390-7302,\n",
      "01 Sep 2024,UMC-S, 29.70, ,WWW.COMMON* PASTAMANIA SI NG 30AUG,5264-7110-0390-7302,\n",
      "01 Sep 2024,UMC-S, 4.21, ,BUS/MRT 492761075      SI NG 23AUG,5264-7110-0390-7302,\n",
      "01 Sep 2024,UMC-S, 2.00, ,COCA-COLA SINGAPORE BE SI NG 30AUG,5264-7110-0390-7302,\n",
      "31 Aug 2024,POS, 7.00, ,NETS QR PAYMENT 424410171180326,TO: NINE FRESH NCMO,\n",
      "31 Aug 2024,POS, 9.00, ,NETS QR PAYMENT 424410081078142,TO: LIHO,\n",
      "30 Aug 2024,ICT, 7.00, ,PayNow Transfer 7041615,To: Andrew Lum,OTHR PayNow Transfer\n",
      "30 Aug 2024,ICT, 1.00, ,PayNow Transfer 5909431,To: ROHIT JACOB JOHN,OTHR PayNow Transfer\n",
      "27 Aug 2024,ICT, , 70.00,Incoming PayNow Ref 7139225,From: CATALAN KWYNNZIE CHAVEZ,OTHR OTHR\n",
      "26 Aug 2024,IBG, , 5.60,Singapore Sports Council,ACTIVESGEWALLETREFUND,REFU\n",
      "24 Aug 2024,POS, 19.40, ,NETS QR PAYMENT 423714125574830,TO: STUFF'D,\n",
      "24 Aug 2024,POS, 2.60, ,NETS QR PAYMENT 423713512472099,TO: SKP,\n",
      "24 Aug 2024,UMC-S, 18.00, ,GIFTS GREETINGS        SI NG 23AUG,5264-7110-0390-7302,\n",
      "23 Aug 2024,POS, 16.60, ,03907302,QI JI,NETS CONTACTLESS\n",
      "23 Aug 2024,ICT, 10.00, ,PayNow Transfer 8139248,To: CATALAN KWYNNZIE CHAVEZ,OTHR PayNow Transfer\n",
      "22 Aug 2024,ICT, 20.00, ,PayNow Transfer 5078093,To: CATALAN KWYNNZIE CHAVEZ,OTHR PayNow Transfer\n",
      "22 Aug 2024,UMC-S, 18.23, ,BUS/MRT 487261829      SI NG 15AUG,5264-7110-0390-7302,\n",
      "20 Aug 2024,ICT, 3.20, ,PayNow Transfer 5673853,To: CATALAN KWYNNZIE CHAVEZ,OTHR PayNow Transfer\n",
      "20 Aug 2024,ICT, , 3.20,Incoming PayNow Ref 3143802,From: CATALAN KWYNNZIE CHAVEZ,OTHR OTHR\n",
      "20 Aug 2024,UMC-S, 13.20, ,MCDONALD'S (VIVO)      SI NG 16AUG,5264-7110-0390-7302,\n",
      "20 Aug 2024,ICT, 50.00, ,PayNow Transfer 9347697,To: CATALAN KWYNNZIE CHAVEZ,OTHR PayNow Transfer\n",
      "18 Aug 2024,UMC-S, 11.54, ,BUS/MRT 484940028      SI NG 09AUG,5264-7110-0390-7302,\n",
      "18 Aug 2024,UMC-S, 19.90, ,UNIQLO VIVOCITY        SI NG 16AUG,5264-7110-0390-7302,\n",
      "17 Aug 2024,UMC-S, 61.60, ,TS/NANAS GREEN TEA P   SI NG 15AUG,5264-7110-0390-7302,\n",
      "17 Aug 2024,UMC-S, 78.00, ,COUPLE LAB PLAZA SINGA SI NG 15AUG,5264-7110-0390-7302,\n",
      "17 Aug 2024,UMC-S, 54.99, ,COTTON ON SINGAPORE PT SI NG 15AUG,5264-7110-0390-7302,\n",
      "16 Aug 2024,UMC-S, 41.00, ,SEIMON-CHO (PS)        SI NG 15AUG,5264-7110-0390-7302,\n",
      "14 Aug 2024,UMC-S, 17.89, ,BUS/MRT 482347571      SI NG 07AUG,5264-7110-0390-7302,\n",
      "13 Aug 2024,UMC-S, 49.80, ,PULL & BEAR-ION        SI NG 10AUG,5264-7110-0390-7302,\n",
      "13 Aug 2024,UMC-S, 8.90, ,BURGER KING-SELETAR MA SI NG 08AUG,5264-7110-0390-7302,\n",
      "11 Aug 2024,ICT, , 109.64,WHDWS272266,20240811DBSSSGSGBRT8807737,OTHR\n",
      "11 Aug 2024,UMC-S, 35.00, ,TOG CONNECTION PTE LTD SI NG 09AUG,5264-7110-0390-7302,\n",
      "11 Aug 2024,UMC-S, 5.70, ,J.CO                   SI NG 09AUG,5264-7110-0390-7302,\n",
      "11 Aug 2024,ICT, 56.82, ,PayNow Transfer 7264245,To: CATALAN KWYNNZIE CHAVEZ,OTHR PayNow Transfer\n",
      "11 Aug 2024,ICT, , 56.82,Incoming PayNow Ref 7697305,From: CATALAN KWYNNZIE CHAVEZ,OTHR OTHR\n",
      "11 Aug 2024,ITR, 1000.00, ,593-60524-8  : I-BANK,,\n",
      "10 Aug 2024,ICT, 3.00, ,PayNow Transfer 5490285,To: KABAYAN FILIPINO RESTAURANT PTE,OTHR EPOSU2UWWB3FNM8V\n",
      "10 Aug 2024,ICT, 20.50, ,PayNow Transfer 5486865,To: KABAYAN FILIPINO RESTAURANT PTE,OTHR EPOSATWWRV3UPD5D\n",
      "09 Aug 2024,ICT, 17.80, ,PayNow Transfer 8175652,To: SAMUEL SOON,OTHR PayNow Transfer\n",
      "09 Aug 2024,UMC-S, 7.80, ,MOS BURGER-WHITE SANDS SI NG 07AUG,5264-7110-0390-7302,\n",
      "09 Aug 2024,UMC-S, 16.30, ,7-ELEVEN-COMPASS ONE   SI NG 07AUG,5264-7110-0390-7302,\n",
      "08 Aug 2024,CAM, , 200.00,03907302,PAYA LEBAR BRA,\n",
      "07 Aug 2024,POS, 9.20, ,03907302,KOI THE SINGAPORE PTE LTD,NETS CONTACTLESS\n",
      "07 Aug 2024,SAL, , 755.00,MINDEF SAF,12039075,\n",
      "06 Aug 2024,UMC-S, 9.90, ,BUS/MRT 477905123      SI NG 27JUL,5264-7110-0390-7302,\n",
      "06 Aug 2024,ICT, 1.21, ,PayNow Transfer 8747324,To: ASHWIN GUNASEKARAN,OTHR PayNow Transfer\n",
      "02 Aug 2024,ADV, 7.16, ,,BUS/MRT 473503655 0352FR24369264,\n",
      "31 Jul 2024,DIN, 20.00, ,,,\n",
      "30 Jul 2024,UMC-S, 3.95, ,MCDONALD'S (SLM)       SI NG 26JUL,5264-7110-0390-7302,\n",
      "30 Jul 2024,UMC-S, 3.00, ,LIFESTYLEMART          SI NG 28JUL,5264-7110-0390-7302,\n",
      "30 Jul 2024,UMC-S, 5.20, ,FR CWP-HOT & COLD      SI NG 27JUL,5264-7110-0390-7302,\n",
      "30 Jul 2024,UMC-S, 14.00, ,FR CWP LIXIN FISHBALL  SI NG 27JUL,5264-7110-0390-7302,\n",
      "27 Jul 2024,ICT, , 47.20,Incoming PayNow Ref 8138865,From: CATALAN KWYNNZIE CHAVEZ,OTHR OTHR\n",
      "27 Jul 2024,POS, 48.20, ,03907302,HAY DAIRIES,NETS CONTACTLESS\n",
      "27 Jul 2024,POS, 13.00, ,03907302,HAY DAIRIES,NETS CONTACTLESS\n",
      "23 Jul 2024,UMC-S, 1.70, ,FAIRPRICE FINEST-WATER SI NG 19JUL,5264-7110-1009-8095,\n",
      "21 Jul 2024,UMC-S, 28.30, ,SO PHO-WATERWAY        SI NG 19JUL,5264-7110-1009-8095,\n",
      "20 Jul 2024,ICT, 0.61, ,PayNow Transfer 9046596,To: WARBURG VENDING PTE LTD,OTHR QR3 dy00lXLa 013323\n",
      "20 Jul 2024,ICT, 0.61, ,PayNow Transfer 9043066,To: WARBURG VENDING PTE LTD,OTHR QR3 dy00lXKy 013323\n",
      "20 Jul 2024,ICT, 2.00, ,PayNow Transfer 9018475,To: CATALAN KWYNNZIE CHAVEZ,OTHR PayNow Transfer\n",
      "20 Jul 2024,ICT, , 10.00,Incoming PayNow Ref 4115259,From: CATALAN KWYNNZIE CHAVEZ,OTHR OTHR\n",
      "20 Jul 2024,ICT, 10.00, ,PayNow Transfer 8852147,To: CATALAN KWYNNZIE CHAVEZ,OTHR PayNow Transfer\n",
      "20 Jul 2024,UMC-S, 12.30, ,PLAYMADE               SI NG 19JUL,5264-7110-1009-8095,\n",
      "18 Jul 2024,SAL, , 706.29,MINDEF SAF,12039075,\n",
      "10 Jul 2024,UMC-S, 6.85, ,BUS/MRT 463805250      SI NG 01JUL,5264-7110-1009-8095,\n",
      "04 Jul 2024,UMC-S, 16.00, ,STARBUCKS@PARKWAY (PW) SI NG 02JUL,5264-7110-1009-8095,\n",
      "04 Jul 2024,UMC-S, 64.90, ,CHALLENGER-PARKWAY PAR SI NG 02JUL,5264-7110-1009-8095,\n",
      "04 Jul 2024,UMC-S, 18.41, ,BUS/MRT 460577203      SI NG 25JUN,5264-7110-1009-8095,\n",
      "03 Jul 2024,UMC-S, 6.50, ,LIHO WATERWAY PT       SI NG 01JUL,5264-7110-1009-8095,\n",
      "03 Jul 2024,UMC-S, 29.74, ,JFE - TOKYO SHOKUDO    SI NG 01JUL,5264-7110-1009-8095,\n",
      "02 Jul 2024,ICT, , 20.00,Incoming PayNow Ref 3589975,From: CATALAN KWYNNZIE CHAVEZ,OTHR OTHR\n",
      "02 Jul 2024,UMC-S, 11.90, ,WWW.CHARLIESGRILL.COM. SI NG 29JUN,5264-7110-1009-8095,\n",
      "30 Jun 2024,UMC-S, 3.40, ,COLD STORAGE-COMPASS O SI NG 28JUN,5264-7110-1009-8095,\n",
      "29 Jun 2024,ICT, 16.40, ,PayNow Transfer 9027273,To: haaris,OTHR PayNow Transfer\n",
      "29 Jun 2024,UMC-S, 10.00, ,HANA FILM PTE LTD      SI NG 27JUN,5264-7110-1009-8095,\n",
      "29 Jun 2024,UMC-S, 48.80, ,ASTONS-KALLANG         SI NG 27JUN,5264-7110-1009-8095,\n",
      "29 Jun 2024,UMC-S, 2.00, ,HANA FILM PTE LTD      SI NG 27JUN,5264-7110-1009-8095,\n",
      "29 Jun 2024,UMC-S, 11.35, ,MCDONALD'S (CP1)       SI NG 25JUN,5264-7110-1009-8095,\n",
      "29 Jun 2024,UMC-S, 10.60, ,MCDONALD'S (CP1)       SI NG 25JUN,5264-7110-1009-8095,\n",
      "29 Jun 2024,UMC-S, 6.64, ,BUS/MRT 457834240      SI NG 20JUN,5264-7110-1009-8095,\n",
      "28 Jun 2024,UMC-S, 3.15, ,JAPAN HOME             SI NG 27JUN,5264-7110-1009-8095,\n",
      "28 Jun 2024,ICT, 40.00, ,PayNow Transfer 9916061,To: SAMUEL SOON,OTHR PayNow Transfer\n",
      "27 Jun 2024,UMC-S, 26.40, ,7-ELEVEN-COMPASS ONE   SI NG 25JUN,5264-7110-1009-8095,\n",
      "27 Jun 2024,UMC-S, 3.55, ,GUARDIAN - COMPASS ONE SI NG 25JUN,5264-7110-1009-8095,\n",
      "27 Jun 2024,UMC-S, 17.30, ,SENGKANG POLYCLINIC    SI NG 25JUN,5264-7110-1009-8095,\n",
      "27 Jun 2024,UMC-S, 13.20, ,SAAP SAAP THAI - FUNAN SI NG 24JUN,5264-7110-1009-8095,\n",
      "25 Jun 2024,UMC-S, 16.28, ,BUS/MRT 455295738      SI NG 15JUN,5264-7110-1009-8095,\n",
      "25 Jun 2024,ICT, 20.00, ,PayNow Transfer 7130665,To: CATALAN KWYNNZIE CHAVEZ,OTHR PayNow Transfer\n",
      "24 Jun 2024,ICT, 36.00, ,PayNow Transfer 6279416,To: tasshopsg,OTHR PayNow Transfer\n",
      "23 Jun 2024,POS, 1.00, ,10098095,MIXUE,NETS CONTACTLESS\n",
      "22 Jun 2024,UMC-S, 19.66, ,BUDDY HOAGIES PL-WWP   SI NG 20JUN,5264-7110-1009-8095,\n",
      "22 Jun 2024,UMC-S, 22.60, ,IKEA-RESTAURANT        SI NG 19JUN,5264-7110-1009-8095,\n",
      "22 Jun 2024,UMC-S, 58.80, ,IKEA                   SI NG 19JUN,5264-7110-1009-8095,\n",
      "21 Jun 2024,UMC-S, 35.00, ,TOG CONNECTION PTE LTD SI NG 20JUN,5264-7110-1009-8095,\n",
      "21 Jun 2024,UMC-S, 19.35, ,MCDONALDS 930126       SI NG 19JUN,5264-7110-1009-8095,\n",
      "20 Jun 2024,UMC-S, 6.25, ,BUS/MRT 452995709      SI NG 10JUN,5264-7110-1009-8095,\n",
      "20 Jun 2024,UMC-S, 48.80, ,SO PHO-MBS             SI NG 16JUN,5264-7110-1009-8095,\n",
      "19 Jun 2024,ICT, , 55.80,Incoming PayNow Ref 5640119,From: CATALAN KWYNNZIE CHAVEZ,OTHR OTHR\n",
      "19 Jun 2024,ICT, , 11.30,Incoming PayNow Ref 5617346,From: CATALAN KWYNNZIE CHAVEZ,OTHR OTHR\n",
      "19 Jun 2024,UMC-S, 5.72, ,SCALACUBE              TA LL 16JUN,5264-7110-1009-8095 EUR3.80,\n",
      "19 Jun 2024,UMC-S, 20.10, ,REVOLUT**7050*         SI NG 16JUN,5264-7110-1009-8095,\n",
      "16 Jun 2024,ICT, , 20.30,Incoming PayNow Ref 7752704,From: LIM WEI JIE DAMIEN,OTHR PayNow Transfer\n",
      "16 Jun 2024,ICT, , 11.70,Incoming PayNow Ref 7752221,From: MOHAMMED ILHAN MOHAMMED RAZIF,OTHR PayNow Transfer\n",
      "15 Jun 2024,ITR, , 500.00,005-3-081004 : I-BANK,,\n",
      "15 Jun 2024,UMC-S, 33.00, ,SHAW THEATRES SHAW.SG  IN TE 13JUN,5264-7110-1009-8095,\n",
      "14 Jun 2024,ICT, , 10.00,Incoming PayNow Ref 3369561,From: CATALAN KWYNNZIE CHAVEZ,OTHR OTHR\n",
      "14 Jun 2024,ICT, , 11.90,Incoming PayNow Ref 3274240,From: CATALAN KWYNNZIE CHAVEZ,OTHR OTHR\n",
      "13 Jun 2024,ICT, , 15.50,Incoming PayNow Ref 2903678,From: CATALAN KWYNNZIE CHAVEZ,OTHR OTHR\n",
      "13 Jun 2024,UMC-S, 13.21, ,BUS/MRT 449978088      SI NG 04JUN,5264-7110-1009-8095,\n",
      "09 Jun 2024,UMC-S, 10.90, ,POPEYES - THE SELETAR  SI NG 31MAY,5264-7110-1009-8095,\n",
      "08 Jun 2024,UMC-S, 10.80, ,BUS/MRT 447292638      SI NG 30MAY,5264-7110-1009-8095,\n",
      "06 Jun 2024,ICT, 21.00, ,PayNow Transfer 8688249,To: Yuta,OTHR PayNow Transfer\n",
      "05 Jun 2024,UMC-S, 40.00, ,REVOLUT**7050*         SI NG 02JUN,5264-7110-1009-8095,\n"
     ]
    }
   ],
   "source": [
    "cleaned_csv = \"\"\n",
    "\n",
    "with open(test_directory, 'r') as file:\n",
    "    for line in file:\n",
    "        valid = check_if_line_is_valid(line)\n",
    "\n",
    "        if valid:\n",
    "            print(valid)\n",
    "            cleaned_csv += valid\n",
    "            cleaned_csv += \"\\n\"\n"
   ]
  },
  {
   "cell_type": "code",
   "execution_count": 15,
   "metadata": {},
   "outputs": [
    {
     "data": {
      "text/plain": [
       "113"
      ]
     },
     "execution_count": 15,
     "metadata": {},
     "output_type": "execute_result"
    }
   ],
   "source": [
    "df = pd.read_csv(io.StringIO(cleaned_csv))\n",
    "len(df)"
   ]
  },
  {
   "cell_type": "code",
   "execution_count": 24,
   "metadata": {},
   "outputs": [
    {
     "data": {
      "text/plain": [
       "113"
      ]
     },
     "execution_count": 24,
     "metadata": {},
     "output_type": "execute_result"
    }
   ],
   "source": [
    "df1 = df[50:]\n",
    "df2 = df[:67]\n",
    "len(pd.concat([df1, df2]).drop_duplicates())"
   ]
  },
  {
   "cell_type": "code",
   "execution_count": null,
   "metadata": {},
   "outputs": [],
   "source": [
    "def append_transaction_history(file, transaction_history):\n",
    "\n",
    "    cleaned_csv = \"\"\n",
    "\n",
    "    with open(test_directory, 'r') as file:\n",
    "        for line in file:\n",
    "            valid = check_if_line_is_valid(line)\n",
    "\n",
    "            if valid:\n",
    "                print(valid)\n",
    "                cleaned_csv += valid\n",
    "                cleaned_csv += \"\\n\"\n",
    "\n",
    "    df = pd.read_csv(io.StringIO(cleaned_csv))\n",
    "    return pd.concat([transaction_history, df]).drop_duplicates()"
   ]
  }
 ],
 "metadata": {
  "kernelspec": {
   "display_name": "env",
   "language": "python",
   "name": "python3"
  },
  "language_info": {
   "codemirror_mode": {
    "name": "ipython",
    "version": 3
   },
   "file_extension": ".py",
   "mimetype": "text/x-python",
   "name": "python",
   "nbconvert_exporter": "python",
   "pygments_lexer": "ipython3",
   "version": "3.11.9"
  }
 },
 "nbformat": 4,
 "nbformat_minor": 2
}
