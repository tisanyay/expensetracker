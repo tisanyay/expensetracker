{
 "cells": [
  {
   "cell_type": "markdown",
   "metadata": {},
   "source": [
    "## Importing and cleaning data"
   ]
  },
  {
   "cell_type": "code",
   "execution_count": null,
   "metadata": {},
   "outputs": [
    {
     "data": {
      "text/html": [
       "<div>\n",
       "<style scoped>\n",
       "    .dataframe tbody tr th:only-of-type {\n",
       "        vertical-align: middle;\n",
       "    }\n",
       "\n",
       "    .dataframe tbody tr th {\n",
       "        vertical-align: top;\n",
       "    }\n",
       "\n",
       "    .dataframe thead th {\n",
       "        text-align: right;\n",
       "    }\n",
       "</style>\n",
       "<table border=\"1\" class=\"dataframe\">\n",
       "  <thead>\n",
       "    <tr style=\"text-align: right;\">\n",
       "      <th></th>\n",
       "      <th>Transaction Date</th>\n",
       "      <th>Reference</th>\n",
       "      <th>Debit Amount</th>\n",
       "      <th>Credit Amount</th>\n",
       "      <th>Transaction Ref1</th>\n",
       "      <th>Transaction Ref2</th>\n",
       "      <th>Transaction Ref3</th>\n",
       "      <th>Unnamed: 7</th>\n",
       "      <th>Date</th>\n",
       "      <th>Month</th>\n",
       "      <th>Vendor</th>\n",
       "    </tr>\n",
       "  </thead>\n",
       "  <tbody>\n",
       "    <tr>\n",
       "      <th>0</th>\n",
       "      <td>2024-12-23</td>\n",
       "      <td>ICT</td>\n",
       "      <td>4.60</td>\n",
       "      <td>NaN</td>\n",
       "      <td>OTHR Na</td>\n",
       "      <td>PayNow Transfer 5114586</td>\n",
       "      <td>To: AL HIRA PTE. LTD.</td>\n",
       "      <td>NaN</td>\n",
       "      <td>Dec 23</td>\n",
       "      <td>12 Dec</td>\n",
       "      <td>OTHR Na PayNow Transfer 5114586 To: AL HIRA PT...</td>\n",
       "    </tr>\n",
       "    <tr>\n",
       "      <th>1</th>\n",
       "      <td>2024-12-21</td>\n",
       "      <td>ICT</td>\n",
       "      <td>500.00</td>\n",
       "      <td>NaN</td>\n",
       "      <td>OTHR PayNow Transfer</td>\n",
       "      <td>PayNow Transfer 8920040</td>\n",
       "      <td>To: CATALAN KWYNNZIE CHAVEZ</td>\n",
       "      <td>NaN</td>\n",
       "      <td>Dec 21</td>\n",
       "      <td>12 Dec</td>\n",
       "      <td>OTHR PayNow Transfer PayNow Transfer 8920040 T...</td>\n",
       "    </tr>\n",
       "    <tr>\n",
       "      <th>2</th>\n",
       "      <td>2024-12-21</td>\n",
       "      <td>ICT</td>\n",
       "      <td>NaN</td>\n",
       "      <td>485.0</td>\n",
       "      <td>OTHR OTHR</td>\n",
       "      <td>Incoming PayNow Ref 1590093</td>\n",
       "      <td>From: CATALAN KWYNNZIE CHAVEZ</td>\n",
       "      <td>NaN</td>\n",
       "      <td>Dec 21</td>\n",
       "      <td>12 Dec</td>\n",
       "      <td>OTHR OTHR Incoming PayNow Ref 1590093 From: CA...</td>\n",
       "    </tr>\n",
       "    <tr>\n",
       "      <th>3</th>\n",
       "      <td>2024-12-21</td>\n",
       "      <td>UMC-S</td>\n",
       "      <td>5.76</td>\n",
       "      <td>NaN</td>\n",
       "      <td></td>\n",
       "      <td>SHENGSIONG@417FERNVALE SI NG 19DEC</td>\n",
       "      <td>5264-7110-0390-7302</td>\n",
       "      <td>NaN</td>\n",
       "      <td>Dec 21</td>\n",
       "      <td>12 Dec</td>\n",
       "      <td>SHENGSIONG@417FERNVALE SI NG 19DEC 5264-7110-...</td>\n",
       "    </tr>\n",
       "    <tr>\n",
       "      <th>4</th>\n",
       "      <td>2024-12-21</td>\n",
       "      <td>UMC-S</td>\n",
       "      <td>15.00</td>\n",
       "      <td>NaN</td>\n",
       "      <td></td>\n",
       "      <td>KOPITIAM @VIVO         SI NG 19DEC</td>\n",
       "      <td>5264-7110-0390-7302</td>\n",
       "      <td>NaN</td>\n",
       "      <td>Dec 21</td>\n",
       "      <td>12 Dec</td>\n",
       "      <td>KOPITIAM @VIVO         SI NG 19DEC 5264-7110-...</td>\n",
       "    </tr>\n",
       "    <tr>\n",
       "      <th>...</th>\n",
       "      <td>...</td>\n",
       "      <td>...</td>\n",
       "      <td>...</td>\n",
       "      <td>...</td>\n",
       "      <td>...</td>\n",
       "      <td>...</td>\n",
       "      <td>...</td>\n",
       "      <td>...</td>\n",
       "      <td>...</td>\n",
       "      <td>...</td>\n",
       "      <td>...</td>\n",
       "    </tr>\n",
       "    <tr>\n",
       "      <th>126</th>\n",
       "      <td>2024-06-28</td>\n",
       "      <td>ICT</td>\n",
       "      <td>40.00</td>\n",
       "      <td>NaN</td>\n",
       "      <td>PayNow Transfer 9916061</td>\n",
       "      <td>To: SAMUEL SOON</td>\n",
       "      <td>OTHR PayNow Transfer</td>\n",
       "      <td>NaN</td>\n",
       "      <td>Jun 28</td>\n",
       "      <td>06 Jun</td>\n",
       "      <td>PayNow Transfer 9916061 To: SAMUEL SOON OTHR P...</td>\n",
       "    </tr>\n",
       "    <tr>\n",
       "      <th>127</th>\n",
       "      <td>2024-06-27</td>\n",
       "      <td>UMC-S</td>\n",
       "      <td>26.40</td>\n",
       "      <td>NaN</td>\n",
       "      <td>7-ELEVEN-COMPASS ONE   SI NG 25JUN</td>\n",
       "      <td>5264-7110-1009-8095</td>\n",
       "      <td></td>\n",
       "      <td>NaN</td>\n",
       "      <td>Jun 27</td>\n",
       "      <td>06 Jun</td>\n",
       "      <td>7-ELEVEN-COMPASS ONE   SI NG 25JUN 5264-7110-1...</td>\n",
       "    </tr>\n",
       "    <tr>\n",
       "      <th>128</th>\n",
       "      <td>2024-06-27</td>\n",
       "      <td>UMC-S</td>\n",
       "      <td>3.55</td>\n",
       "      <td>NaN</td>\n",
       "      <td>GUARDIAN - COMPASS ONE SI NG 25JUN</td>\n",
       "      <td>5264-7110-1009-8095</td>\n",
       "      <td></td>\n",
       "      <td>NaN</td>\n",
       "      <td>Jun 27</td>\n",
       "      <td>06 Jun</td>\n",
       "      <td>GUARDIAN - COMPASS ONE SI NG 25JUN 5264-7110-1...</td>\n",
       "    </tr>\n",
       "    <tr>\n",
       "      <th>129</th>\n",
       "      <td>2024-06-27</td>\n",
       "      <td>UMC-S</td>\n",
       "      <td>17.30</td>\n",
       "      <td>NaN</td>\n",
       "      <td>SENGKANG POLYCLINIC    SI NG 25JUN</td>\n",
       "      <td>5264-7110-1009-8095</td>\n",
       "      <td></td>\n",
       "      <td>NaN</td>\n",
       "      <td>Jun 27</td>\n",
       "      <td>06 Jun</td>\n",
       "      <td>SENGKANG POLYCLINIC    SI NG 25JUN 5264-7110-1...</td>\n",
       "    </tr>\n",
       "    <tr>\n",
       "      <th>130</th>\n",
       "      <td>2024-06-27</td>\n",
       "      <td>UMC-S</td>\n",
       "      <td>13.20</td>\n",
       "      <td>NaN</td>\n",
       "      <td>SAAP SAAP THAI - FUNAN SI NG 24JUN</td>\n",
       "      <td>5264-7110-1009-8095</td>\n",
       "      <td></td>\n",
       "      <td>NaN</td>\n",
       "      <td>Jun 27</td>\n",
       "      <td>06 Jun</td>\n",
       "      <td>SAAP SAAP THAI - FUNAN SI NG 24JUN 5264-7110-1...</td>\n",
       "    </tr>\n",
       "  </tbody>\n",
       "</table>\n",
       "<p>336 rows × 11 columns</p>\n",
       "</div>"
      ],
      "text/plain": [
       "    Transaction Date Reference  Debit Amount  Credit Amount  \\\n",
       "0         2024-12-23       ICT          4.60            NaN   \n",
       "1         2024-12-21       ICT        500.00            NaN   \n",
       "2         2024-12-21       ICT           NaN          485.0   \n",
       "3         2024-12-21     UMC-S          5.76            NaN   \n",
       "4         2024-12-21     UMC-S         15.00            NaN   \n",
       "..               ...       ...           ...            ...   \n",
       "126       2024-06-28       ICT         40.00            NaN   \n",
       "127       2024-06-27     UMC-S         26.40            NaN   \n",
       "128       2024-06-27     UMC-S          3.55            NaN   \n",
       "129       2024-06-27     UMC-S         17.30            NaN   \n",
       "130       2024-06-27     UMC-S         13.20            NaN   \n",
       "\n",
       "                       Transaction Ref1                    Transaction Ref2  \\\n",
       "0                               OTHR Na             PayNow Transfer 5114586   \n",
       "1                  OTHR PayNow Transfer             PayNow Transfer 8920040   \n",
       "2                             OTHR OTHR         Incoming PayNow Ref 1590093   \n",
       "3                                        SHENGSIONG@417FERNVALE SI NG 19DEC   \n",
       "4                                        KOPITIAM @VIVO         SI NG 19DEC   \n",
       "..                                  ...                                 ...   \n",
       "126             PayNow Transfer 9916061                     To: SAMUEL SOON   \n",
       "127  7-ELEVEN-COMPASS ONE   SI NG 25JUN                 5264-7110-1009-8095   \n",
       "128  GUARDIAN - COMPASS ONE SI NG 25JUN                 5264-7110-1009-8095   \n",
       "129  SENGKANG POLYCLINIC    SI NG 25JUN                 5264-7110-1009-8095   \n",
       "130  SAAP SAAP THAI - FUNAN SI NG 24JUN                 5264-7110-1009-8095   \n",
       "\n",
       "                  Transaction Ref3  Unnamed: 7    Date   Month  \\\n",
       "0            To: AL HIRA PTE. LTD.         NaN  Dec 23  12 Dec   \n",
       "1      To: CATALAN KWYNNZIE CHAVEZ         NaN  Dec 21  12 Dec   \n",
       "2    From: CATALAN KWYNNZIE CHAVEZ         NaN  Dec 21  12 Dec   \n",
       "3              5264-7110-0390-7302         NaN  Dec 21  12 Dec   \n",
       "4              5264-7110-0390-7302         NaN  Dec 21  12 Dec   \n",
       "..                             ...         ...     ...     ...   \n",
       "126           OTHR PayNow Transfer         NaN  Jun 28  06 Jun   \n",
       "127                                        NaN  Jun 27  06 Jun   \n",
       "128                                        NaN  Jun 27  06 Jun   \n",
       "129                                        NaN  Jun 27  06 Jun   \n",
       "130                                        NaN  Jun 27  06 Jun   \n",
       "\n",
       "                                                Vendor  \n",
       "0    OTHR Na PayNow Transfer 5114586 To: AL HIRA PT...  \n",
       "1    OTHR PayNow Transfer PayNow Transfer 8920040 T...  \n",
       "2    OTHR OTHR Incoming PayNow Ref 1590093 From: CA...  \n",
       "3     SHENGSIONG@417FERNVALE SI NG 19DEC 5264-7110-...  \n",
       "4     KOPITIAM @VIVO         SI NG 19DEC 5264-7110-...  \n",
       "..                                                 ...  \n",
       "126  PayNow Transfer 9916061 To: SAMUEL SOON OTHR P...  \n",
       "127  7-ELEVEN-COMPASS ONE   SI NG 25JUN 5264-7110-1...  \n",
       "128  GUARDIAN - COMPASS ONE SI NG 25JUN 5264-7110-1...  \n",
       "129  SENGKANG POLYCLINIC    SI NG 25JUN 5264-7110-1...  \n",
       "130  SAAP SAAP THAI - FUNAN SI NG 24JUN 5264-7110-1...  \n",
       "\n",
       "[336 rows x 11 columns]"
      ]
     },
     "execution_count": 110,
     "metadata": {},
     "output_type": "execute_result"
    }
   ],
   "source": [
    "import pandas as pd\n",
    "import numpy as np\n",
    "import re\n",
    "import seaborn as sns\n",
    "import matplotlib.pyplot as plt\n",
    "\n",
    "transaction_history_1 = pd.read_csv(\"../transaction_history_csv/sep-dec.csv\")\n",
    "transaction_history_2 = pd.read_csv(\"../transaction_history_csv/jun-sep.csv\")\n",
    "transaction_history = pd.concat([transaction_history_1, transaction_history_2])\n",
    "\n",
    "# transaction_history = transaction_history[transaction_history[\"Reference\"] == \"UMC-S\"]\n",
    "transaction_history[\"Transaction Date\"] = pd.to_datetime(transaction_history[\"Transaction Date\"])\n",
    "transaction_history[\"Debit Amount\"] = transaction_history[\"Debit Amount\"].replace({' ': np.nan})\n",
    "transaction_history[\"Debit Amount\"] = transaction_history[\"Debit Amount\"].astype(float)\n",
    "transaction_history[\"Credit Amount\"] = transaction_history[\"Credit Amount\"].replace({' ': np.nan})\n",
    "transaction_history[\"Credit Amount\"] = transaction_history[\"Credit Amount\"].astype(float)\n",
    "transaction_history[\"Date\"] = transaction_history[\"Transaction Date\"].dt.strftime('%b %d')\n",
    "transaction_history[\"Month\"] = transaction_history[\"Transaction Date\"].dt.strftime('%m %b')\n",
    "transaction_history[\"Transaction Ref1\"] = transaction_history[\"Transaction Ref1\"].fillna(\"\")\n",
    "transaction_history[\"Transaction Ref2\"] = transaction_history[\"Transaction Ref2\"].fillna(\"\")\n",
    "transaction_history[\"Transaction Ref3\"] = transaction_history[\"Transaction Ref3\"].fillna(\"\")\n",
    "transaction_history[\"Vendor\"] = transaction_history[\"Transaction Ref1\"] + ' ' + transaction_history[\"Transaction Ref2\"] + ' ' + transaction_history[\"Transaction Ref3\"]\n",
    "transaction_history = transaction_history[transaction_history[\"Reference\"] != \"ITR\"]\n",
    "\n",
    "output_directory = \"../transaction_history_csv/out.csv\"\n",
    "\n",
    "transaction_history"
   ]
  },
  {
   "cell_type": "markdown",
   "metadata": {},
   "source": [
    "## Categorizing vendors"
   ]
  },
  {
   "cell_type": "code",
   "execution_count": 111,
   "metadata": {},
   "outputs": [
    {
     "data": {
      "text/plain": [
       "Category\n",
       "Shopping     139\n",
       "F&B           81\n",
       "Transport     59\n",
       "Transfers     49\n",
       "Salary         7\n",
       "Medical        1\n",
       "Name: count, dtype: int64"
      ]
     },
     "execution_count": 111,
     "metadata": {},
     "output_type": "execute_result"
    }
   ],
   "source": [
    "def remove_special_characters(string):\n",
    "    return \"\".join(e for e in string.lower() if e.isalnum())\n",
    "\n",
    "def check_if_string_in_list(original_string, reference_list):\n",
    "    if not isinstance(original_string, str):\n",
    "        return False\n",
    "    original_list = [remove_special_characters(s) for s in re.split(\"\\\\s+|\\.|\\@|\\*|\\/|\\_|\\-\", original_string)]\n",
    "    return any([x in reference_list for x in original_list])\n",
    "\n",
    "def categorize_vendors(original_string, reference_dict):\n",
    "    if not isinstance(original_string, str):\n",
    "        return \"Others\"\n",
    "    original_list = [remove_special_characters(s) for s in re.split(\"\\\\s+|\\.|\\@|\\*|\\/|\\_|\\-\", original_string)]\n",
    "    for x in original_list:\n",
    "        for key, value in reference_dict.items():\n",
    "            if x in value:\n",
    "                return key\n",
    "    return \"Shopping\"\n",
    "\n",
    "# F&B vendors list\n",
    "with open(\"../restaurants.txt\") as restaurants:\n",
    "    lines = restaurants.readlines()\n",
    "\n",
    "    restaurant_list = []\n",
    "    for line in lines:\n",
    "        line = [remove_special_characters(e) for e in line.split(\", \")]\n",
    "        restaurant_list.extend(line)\n",
    "\n",
    "    restaurant_list = list(set(restaurant_list))\n",
    "\n",
    "# Transport vendors list\n",
    "# Transport, transfers, salary, and medical lists\n",
    "transport_list = [\"bus\", \"grab\"]\n",
    "# transfer_list = [\"paynow\", \"transfer\", \"ref\", \"bank\", \"revolut\"]\n",
    "transfer_list = [\"kwynnzie\"]\n",
    "salary_list = [\"mindef\", \"saf\", \"gov\"]\n",
    "medical_list = [\"polyclinic\", \"clinic\"]\n",
    "\n",
    "# Vendor group dictionary\n",
    "vendor_groups = {\n",
    "    \"F&B\": restaurant_list,\n",
    "    \"Transport\": transport_list,\n",
    "    \"Transfers\": transfer_list,\n",
    "    \"Salary\": salary_list,\n",
    "    \"Medical\": medical_list\n",
    "}\n",
    "\n",
    "# Transportation vendors list\n",
    "transaction_history[\"Category\"] = transaction_history[\"Vendor\"].apply(lambda x: categorize_vendors(x, vendor_groups))\n",
    "output_directory = \"../transaction_history_csv/out.csv\"\n",
    "transaction_history[\"Category\"].value_counts()"
   ]
  },
  {
   "cell_type": "code",
   "execution_count": 112,
   "metadata": {},
   "outputs": [],
   "source": [
    "def get_price_range(df, upper, lower=-np.inf):\n",
    "    return df[(df[\"Debit Amount\"] < upper) & (df[\"Debit Amount\"] > lower)] \n",
    "\n",
    "def get_category(df, category):\n",
    "    return df[df[\"Category\"]==category]\n",
    "\n",
    "def get_shopping_and_fb_categories(df):\n",
    "    return df[(df[\"Debit Amount\"].notna()) & (df[\"Category\"].isin([\"Shopping\", \"F&B\"]))]\n",
    "\n",
    "def output_csv(df, directory=output_directory):\n",
    "    df.to_csv(directory, index=False)\n",
    "\n",
    "def plot_catplot(df):\n",
    "    df = get_shopping_and_fb_categories(df)\n",
    "\n",
    "    month_axis_ordering = sorted(transaction_history[\"Month\"].unique())\n",
    "    sns.catplot(data=df, x=\"Month\", y=\"Debit Amount\", order=month_axis_ordering)\n",
    "\n",
    "def plot_debit_amount(df):\n",
    "    df[[\"Transaction Date\", \"Debit Amount\"]].set_index(\"Transaction Date\").plot.line()\n",
    "\n",
    "def plot_monthly_debit_spending(df):\n",
    "    df = df[df[\"Debit Amount\"].notna()]\n",
    "    ax = df[[\"Month\", \"Debit Amount\"]].groupby(\"Month\").sum().plot.bar()\n",
    "    for p in ax.patches:\n",
    "        ax.annotate(str(p.get_height()), (p.get_x() * 1.005, p.get_height() * 1.005))\n",
    "\n",
    "def plot_spending_histogram(df, bins_count=100):\n",
    "    df[\"Debit Amount\"].plot.hist(bins=bins_count)\n",
    "\n",
    "def plot_number_of_transactions_monthly(df):\n",
    "    df = df[df[\"Debit Amount\"].notna()]\n",
    "    ax = df[[\"Month\", \"Debit Amount\"]].groupby(\"Month\").count().plot.bar()\n",
    "    for p in ax.patches:\n",
    "        ax.annotate(str(p.get_height()), (p.get_x() * 1.005, p.get_height() * 1.005))\n"
   ]
  },
  {
   "cell_type": "code",
   "execution_count": 113,
   "metadata": {},
   "outputs": [],
   "source": [
    "output_csv(transaction_history)"
   ]
  },
  {
   "cell_type": "code",
   "execution_count": 114,
   "metadata": {},
   "outputs": [
    {
     "data": {
      "image/png": "[encoded data removed]",
      "text/plain": [
       "<Figure size 511.111x500 with 1 Axes>"
      ]
     },
     "metadata": {},
     "output_type": "display_data"
    }
   ],
   "source": [
    "plot_catplot(transaction_history)"
   ]
  },
  {
   "cell_type": "code",
   "execution_count": 115,
   "metadata": {},
   "outputs": [
    {
     "data": {
      "text/html": [
       "<div>\n",
       "<style scoped>\n",
       "    .dataframe tbody tr th:only-of-type {\n",
       "        vertical-align: middle;\n",
       "    }\n",
       "\n",
       "    .dataframe tbody tr th {\n",
       "        vertical-align: top;\n",
       "    }\n",
       "\n",
       "    .dataframe thead tr th {\n",
       "        text-align: left;\n",
       "    }\n",
       "\n",
       "    .dataframe thead tr:last-of-type th {\n",
       "        text-align: right;\n",
       "    }\n",
       "</style>\n",
       "<table border=\"1\" class=\"dataframe\">\n",
       "  <thead>\n",
       "    <tr>\n",
       "      <th></th>\n",
       "      <th colspan=\"4\" halign=\"left\">Debit Amount</th>\n",
       "    </tr>\n",
       "    <tr>\n",
       "      <th></th>\n",
       "      <th>mean</th>\n",
       "      <th>median</th>\n",
       "      <th>sum</th>\n",
       "      <th>count</th>\n",
       "    </tr>\n",
       "    <tr>\n",
       "      <th>Month</th>\n",
       "      <th></th>\n",
       "      <th></th>\n",
       "      <th></th>\n",
       "      <th></th>\n",
       "    </tr>\n",
       "  </thead>\n",
       "  <tbody>\n",
       "    <tr>\n",
       "      <th>06 Jun</th>\n",
       "      <td>20.987500</td>\n",
       "      <td>12.275</td>\n",
       "      <td>83.95</td>\n",
       "      <td>4</td>\n",
       "    </tr>\n",
       "    <tr>\n",
       "      <th>07 Jul</th>\n",
       "      <td>15.336250</td>\n",
       "      <td>13.150</td>\n",
       "      <td>122.69</td>\n",
       "      <td>8</td>\n",
       "    </tr>\n",
       "    <tr>\n",
       "      <th>08 Aug</th>\n",
       "      <td>17.714286</td>\n",
       "      <td>9.000</td>\n",
       "      <td>124.00</td>\n",
       "      <td>7</td>\n",
       "    </tr>\n",
       "    <tr>\n",
       "      <th>09 Sep</th>\n",
       "      <td>15.056875</td>\n",
       "      <td>14.350</td>\n",
       "      <td>240.91</td>\n",
       "      <td>16</td>\n",
       "    </tr>\n",
       "    <tr>\n",
       "      <th>10 Oct</th>\n",
       "      <td>12.797333</td>\n",
       "      <td>8.150</td>\n",
       "      <td>191.96</td>\n",
       "      <td>15</td>\n",
       "    </tr>\n",
       "    <tr>\n",
       "      <th>11 Nov</th>\n",
       "      <td>14.241154</td>\n",
       "      <td>9.300</td>\n",
       "      <td>370.27</td>\n",
       "      <td>26</td>\n",
       "    </tr>\n",
       "    <tr>\n",
       "      <th>12 Dec</th>\n",
       "      <td>10.160000</td>\n",
       "      <td>12.000</td>\n",
       "      <td>50.80</td>\n",
       "      <td>5</td>\n",
       "    </tr>\n",
       "  </tbody>\n",
       "</table>\n",
       "</div>"
      ],
      "text/plain": [
       "       Debit Amount                      \n",
       "               mean  median     sum count\n",
       "Month                                    \n",
       "06 Jun    20.987500  12.275   83.95     4\n",
       "07 Jul    15.336250  13.150  122.69     8\n",
       "08 Aug    17.714286   9.000  124.00     7\n",
       "09 Sep    15.056875  14.350  240.91    16\n",
       "10 Oct    12.797333   8.150  191.96    15\n",
       "11 Nov    14.241154   9.300  370.27    26\n",
       "12 Dec    10.160000  12.000   50.80     5"
      ]
     },
     "execution_count": 115,
     "metadata": {},
     "output_type": "execute_result"
    }
   ],
   "source": [
    "df = get_shopping_and_fb_categories(transaction_history[transaction_history[\"Category\"]==\"F&B\"])\n",
    "df[['Month', 'Debit Amount']].groupby('Month').agg(['mean', 'median', 'sum', 'count'])"
   ]
  },
  {
   "cell_type": "markdown",
   "metadata": {},
   "source": [
    "## Total spending over time"
   ]
  },
  {
   "cell_type": "code",
   "execution_count": 116,
   "metadata": {},
   "outputs": [
    {
     "data": {
      "image/png": "[encoded data removed]",
      "text/plain": [
       "<Figure size 640x480 with 1 Axes>"
      ]
     },
     "metadata": {},
     "output_type": "display_data"
    }
   ],
   "source": [
    "plot_debit_amount(transaction_history)"
   ]
  },
  {
   "cell_type": "markdown",
   "metadata": {},
   "source": [
    "## Spending on F&B over time"
   ]
  },
  {
   "cell_type": "code",
   "execution_count": 117,
   "metadata": {},
   "outputs": [
    {
     "data": {
      "image/png": "[encoded data removed]",
      "text/plain": [
       "<Figure size 640x480 with 1 Axes>"
      ]
     },
     "metadata": {},
     "output_type": "display_data"
    }
   ],
   "source": [
    "plot_debit_amount(get_category(transaction_history, \"F&B\"))"
   ]
  },
  {
   "cell_type": "markdown",
   "metadata": {},
   "source": [
    "## Histogram of total spending"
   ]
  },
  {
   "cell_type": "code",
   "execution_count": 118,
   "metadata": {},
   "outputs": [
    {
     "data": {
      "image/png": "[encoded data removed]",
      "text/plain": [
       "<Figure size 640x480 with 1 Axes>"
      ]
     },
     "metadata": {},
     "output_type": "display_data"
    }
   ],
   "source": [
    "plot_spending_histogram(transaction_history)"
   ]
  },
  {
   "cell_type": "markdown",
   "metadata": {},
   "source": [
    "## Histogram of spending on F&B"
   ]
  },
  {
   "cell_type": "code",
   "execution_count": 119,
   "metadata": {},
   "outputs": [
    {
     "data": {
      "image/png": "[encoded data removed]",
      "text/plain": [
       "<Figure size 640x480 with 1 Axes>"
      ]
     },
     "metadata": {},
     "output_type": "display_data"
    }
   ],
   "source": [
    "plot_spending_histogram(get_category(transaction_history, \"F&B\"))"
   ]
  },
  {
   "cell_type": "markdown",
   "metadata": {},
   "source": [
    "## Monthly spending "
   ]
  },
  {
   "cell_type": "code",
   "execution_count": 120,
   "metadata": {},
   "outputs": [
    {
     "data": {
      "image/png": "[encoded data removed]",
      "text/plain": [
       "<Figure size 640x480 with 1 Axes>"
      ]
     },
     "metadata": {},
     "output_type": "display_data"
    }
   ],
   "source": [
    "plot_monthly_debit_spending(transaction_history)"
   ]
  },
  {
   "cell_type": "markdown",
   "metadata": {},
   "source": [
    "## Monthly F&B spending"
   ]
  },
  {
   "cell_type": "code",
   "execution_count": 121,
   "metadata": {},
   "outputs": [
    {
     "data": {
      "image/png": "[encoded data removed]",
      "text/plain": [
       "<Figure size 640x480 with 1 Axes>"
      ]
     },
     "metadata": {},
     "output_type": "display_data"
    }
   ],
   "source": [
    "plot_monthly_debit_spending(get_category(transaction_history, \"F&B\"))"
   ]
  },
  {
   "cell_type": "markdown",
   "metadata": {},
   "source": [
    "## Monthly total count of transactions"
   ]
  },
  {
   "cell_type": "code",
   "execution_count": 122,
   "metadata": {},
   "outputs": [
    {
     "data": {
      "image/png": "[encoded data removed]",
      "text/plain": [
       "<Figure size 640x480 with 1 Axes>"
      ]
     },
     "metadata": {},
     "output_type": "display_data"
    }
   ],
   "source": [
    "plot_number_of_transactions_monthly(transaction_history)"
   ]
  },
  {
   "cell_type": "markdown",
   "metadata": {},
   "source": [
    "## Monthly count of transactions on F&B"
   ]
  },
  {
   "cell_type": "code",
   "execution_count": 123,
   "metadata": {},
   "outputs": [
    {
     "data": {
      "image/png": "[encoded data removed]",
      "text/plain": [
       "<Figure size 640x480 with 1 Axes>"
      ]
     },
     "metadata": {},
     "output_type": "display_data"
    }
   ],
   "source": [
    "plot_number_of_transactions_monthly(get_category(transaction_history, \"F&B\"))"
   ]
  },
  {
   "cell_type": "markdown",
   "metadata": {},
   "source": [
    "## Price bands"
   ]
  },
  {
   "cell_type": "code",
   "execution_count": 124,
   "metadata": {},
   "outputs": [
    {
     "data": {
      "text/plain": [
       "{'0-10': 0.0,\n",
       " '10-20': 0.0,\n",
       " '20-30': 0.0,\n",
       " '30-40': 0.0,\n",
       " '40-50': 0.0,\n",
       " '50+': 0.0}"
      ]
     },
     "execution_count": 124,
     "metadata": {},
     "output_type": "execute_result"
    }
   ],
   "source": [
    "df = get_category(transaction_history, \"Others\")\n",
    "\n",
    "price_bands = {\n",
    "    \"0-10\": float(get_price_range(df, 10)[\"Debit Amount\"].sum()),\n",
    "    \"10-20\": float(get_price_range(df, 20, 10)[\"Debit Amount\"].sum()),\n",
    "    \"20-30\": float(get_price_range(df, 30, 20)[\"Debit Amount\"].sum()),\n",
    "    \"30-40\": float(get_price_range(df, 40, 30)[\"Debit Amount\"].sum()),\n",
    "    \"40-50\": float(get_price_range(df, 50, 40)[\"Debit Amount\"].sum()),\n",
    "    \"50+\": float(get_price_range(df, np.inf, 50)[\"Debit Amount\"].sum())\n",
    "}\n",
    "\n",
    "price_bands"
   ]
  },
  {
   "cell_type": "code",
   "execution_count": 125,
   "metadata": {},
   "outputs": [
    {
     "data": {
      "text/html": [
       "<div>\n",
       "<style scoped>\n",
       "    .dataframe tbody tr th:only-of-type {\n",
       "        vertical-align: middle;\n",
       "    }\n",
       "\n",
       "    .dataframe tbody tr th {\n",
       "        vertical-align: top;\n",
       "    }\n",
       "\n",
       "    .dataframe thead tr th {\n",
       "        text-align: left;\n",
       "    }\n",
       "\n",
       "    .dataframe thead tr:last-of-type th {\n",
       "        text-align: right;\n",
       "    }\n",
       "</style>\n",
       "<table border=\"1\" class=\"dataframe\">\n",
       "  <thead>\n",
       "    <tr>\n",
       "      <th></th>\n",
       "      <th colspan=\"4\" halign=\"left\">Debit Amount</th>\n",
       "    </tr>\n",
       "    <tr>\n",
       "      <th></th>\n",
       "      <th>mean</th>\n",
       "      <th>median</th>\n",
       "      <th>sum</th>\n",
       "      <th>count</th>\n",
       "    </tr>\n",
       "    <tr>\n",
       "      <th>Category</th>\n",
       "      <th></th>\n",
       "      <th></th>\n",
       "      <th></th>\n",
       "      <th></th>\n",
       "    </tr>\n",
       "  </thead>\n",
       "  <tbody>\n",
       "    <tr>\n",
       "      <th>F&amp;B</th>\n",
       "      <td>14.62</td>\n",
       "      <td>12.0</td>\n",
       "      <td>1184.58</td>\n",
       "      <td>81</td>\n",
       "    </tr>\n",
       "    <tr>\n",
       "      <th>Medical</th>\n",
       "      <td>17.30</td>\n",
       "      <td>17.3</td>\n",
       "      <td>17.30</td>\n",
       "      <td>1</td>\n",
       "    </tr>\n",
       "    <tr>\n",
       "      <th>Shopping</th>\n",
       "      <td>21.81</td>\n",
       "      <td>13.0</td>\n",
       "      <td>2900.69</td>\n",
       "      <td>133</td>\n",
       "    </tr>\n",
       "    <tr>\n",
       "      <th>Transfers</th>\n",
       "      <td>84.34</td>\n",
       "      <td>22.0</td>\n",
       "      <td>2445.82</td>\n",
       "      <td>29</td>\n",
       "    </tr>\n",
       "    <tr>\n",
       "      <th>Transport</th>\n",
       "      <td>13.87</td>\n",
       "      <td>12.2</td>\n",
       "      <td>818.24</td>\n",
       "      <td>59</td>\n",
       "    </tr>\n",
       "  </tbody>\n",
       "</table>\n",
       "</div>"
      ],
      "text/plain": [
       "          Debit Amount                      \n",
       "                  mean median      sum count\n",
       "Category                                    \n",
       "F&B              14.62   12.0  1184.58    81\n",
       "Medical          17.30   17.3    17.30     1\n",
       "Shopping         21.81   13.0  2900.69   133\n",
       "Transfers        84.34   22.0  2445.82    29\n",
       "Transport        13.87   12.2   818.24    59"
      ]
     },
     "execution_count": 125,
     "metadata": {},
     "output_type": "execute_result"
    }
   ],
   "source": [
    "df = transaction_history[transaction_history[\"Debit Amount\"].notna()]\n",
    "df[[\"Category\", \"Debit Amount\"]].groupby(\"Category\").agg([\"mean\", \"median\", \"sum\", \"count\"]).round(2)"
   ]
  },
  {
   "cell_type": "code",
   "execution_count": 126,
   "metadata": {},
   "outputs": [
    {
     "data": {
      "text/plain": [
       "<Axes: xlabel='Month', ylabel='Debit Amount'>"
      ]
     },
     "execution_count": 126,
     "metadata": {},
     "output_type": "execute_result"
    },
    {
     "data": {
      "image/png": "[encoded data removed]",
      "text/plain": [
       "<Figure size 640x480 with 1 Axes>"
      ]
     },
     "metadata": {},
     "output_type": "display_data"
    }
   ],
   "source": [
    "df = transaction_history[transaction_history[\"Debit Amount\"].notna()][[\"Month\", \"Category\", \"Debit Amount\"]].groupby([\"Month\", \"Category\"]).sum()\n",
    "sns.lineplot(data=df.reset_index(), x=\"Month\", y=\"Debit Amount\", hue=\"Category\")"
   ]
  },
  {
   "cell_type": "code",
   "execution_count": 127,
   "metadata": {},
   "outputs": [
    {
     "data": {
      "text/plain": [
       "<Axes: xlabel='Category', ylabel='Debit Amount'>"
      ]
     },
     "execution_count": 127,
     "metadata": {},
     "output_type": "execute_result"
    },
    {
     "data": {
      "image/png": "[encoded data removed]",
      "text/plain": [
       "<Figure size 640x480 with 1 Axes>"
      ]
     },
     "metadata": {},
     "output_type": "display_data"
    }
   ],
   "source": [
    "df = transaction_history[transaction_history[\"Debit Amount\"].notna()]\n",
    "sns.boxplot(data=df, x=\"Category\", y=\"Debit Amount\", showfliers=False)"
   ]
  },
  {
   "cell_type": "code",
   "execution_count": 128,
   "metadata": {},
   "outputs": [
    {
     "data": {
      "image/png": "[encoded data removed]",
      "text/plain": [
       "<Figure size 640x480 with 1 Axes>"
      ]
     },
     "metadata": {},
     "output_type": "display_data"
    }
   ],
   "source": [
    "df = transaction_history[transaction_history[\"Debit Amount\"].notna()][[\"Category\", \"Debit Amount\"]].groupby(\"Category\").sum()\n",
    "plt.pie(df[\"Debit Amount\"], labels=df.index,  autopct='%.0f%%')\n",
    "plt.show()"
   ]
  },
  {
   "cell_type": "code",
   "execution_count": 129,
   "metadata": {},
   "outputs": [
    {
     "data": {
      "application/vnd.plotly.v1+json": {
       "config": {
        "plotlyServerURL": "https://plot.ly"
       },
       "data": [
        {
         "domain": {
          "x": [
           0,
           1
          ],
          "y": [
           0,
           1
          ]
         },
         "hovertemplate": "Category=%{label}<br>Debit Amount=%{value}<extra></extra>",
         "labels": [
          "F&B",
          "Medical",
          "Shopping",
          "Transfers",
          "Transport"
         ],
         "legendgroup": "",
         "name": "",
         "showlegend": true,
         "type": "pie",
         "values": [
          1184.58,
          17.3,
          2900.69,
          2445.82,
          818.24
         ]
        }
       ],
       "layout": {
        "legend": {
         "tracegroupgap": 0
        },
        "margin": {
         "t": 60
        },
        "template": {
         "data": {
          "bar": [
           {
            "error_x": {
             "color": "#2a3f5f"
            },
            "error_y": {
             "color": "#2a3f5f"
            },
            "marker": {
             "line": {
              "color": "#E5ECF6",
              "width": 0.5
             },
             "pattern": {
              "fillmode": "overlay",
              "size": 10,
              "solidity": 0.2
             }
            },
            "type": "bar"
           }
          ],
          "barpolar": [
           {
            "marker": {
             "line": {
              "color": "#E5ECF6",
              "width": 0.5
             },
             "pattern": {
              "fillmode": "overlay",
              "size": 10,
              "solidity": 0.2
             }
            },
            "type": "barpolar"
           }
          ],
          "carpet": [
           {
            "aaxis": {
             "endlinecolor": "#2a3f5f",
             "gridcolor": "white",
             "linecolor": "white",
             "minorgridcolor": "white",
             "startlinecolor": "#2a3f5f"
            },
            "baxis": {
             "endlinecolor": "#2a3f5f",
             "gridcolor": "white",
             "linecolor": "white",
             "minorgridcolor": "white",
             "startlinecolor": "#2a3f5f"
            },
            "type": "carpet"
           }
          ],
          "choropleth": [
           {
            "colorbar": {
             "outlinewidth": 0,
             "ticks": ""
            },
            "type": "choropleth"
           }
          ],
          "contour": [
           {
            "colorbar": {
             "outlinewidth": 0,
             "ticks": ""
            },
            "colorscale": [
             [
              0,
              "#0d0887"
             ],
             [
              0.1111111111111111,
              "#46039f"
             ],
             [
              0.2222222222222222,
              "#7201a8"
             ],
             [
              0.3333333333333333,
              "#9c179e"
             ],
             [
              0.4444444444444444,
              "#bd3786"
             ],
             [
              0.5555555555555556,
              "#d8576b"
             ],
             [
              0.6666666666666666,
              "#ed7953"
             ],
             [
              0.7777777777777778,
              "#fb9f3a"
             ],
             [
              0.8888888888888888,
              "#fdca26"
             ],
             [
              1,
              "#f0f921"
             ]
            ],
            "type": "contour"
           }
          ],
          "contourcarpet": [
           {
            "colorbar": {
             "outlinewidth": 0,
             "ticks": ""
            },
            "type": "contourcarpet"
           }
          ],
          "heatmap": [
           {
            "colorbar": {
             "outlinewidth": 0,
             "ticks": ""
            },
            "colorscale": [
             [
              0,
              "#0d0887"
             ],
             [
              0.1111111111111111,
              "#46039f"
             ],
             [
              0.2222222222222222,
              "#7201a8"
             ],
             [
              0.3333333333333333,
              "#9c179e"
             ],
             [
              0.4444444444444444,
              "#bd3786"
             ],
             [
              0.5555555555555556,
              "#d8576b"
             ],
             [
              0.6666666666666666,
              "#ed7953"
             ],
             [
              0.7777777777777778,
              "#fb9f3a"
             ],
             [
              0.8888888888888888,
              "#fdca26"
             ],
             [
              1,
              "#f0f921"
             ]
            ],
            "type": "heatmap"
           }
          ],
          "heatmapgl": [
           {
            "colorbar": {
             "outlinewidth": 0,
             "ticks": ""
            },
            "colorscale": [
             [
              0,
              "#0d0887"
             ],
             [
              0.1111111111111111,
              "#46039f"
             ],
             [
              0.2222222222222222,
              "#7201a8"
             ],
             [
              0.3333333333333333,
              "#9c179e"
             ],
             [
              0.4444444444444444,
              "#bd3786"
             ],
             [
              0.5555555555555556,
              "#d8576b"
             ],
             [
              0.6666666666666666,
              "#ed7953"
             ],
             [
              0.7777777777777778,
              "#fb9f3a"
             ],
             [
              0.8888888888888888,
              "#fdca26"
             ],
             [
              1,
              "#f0f921"
             ]
            ],
            "type": "heatmapgl"
           }
          ],
          "histogram": [
           {
            "marker": {
             "pattern": {
              "fillmode": "overlay",
              "size": 10,
              "solidity": 0.2
             }
            },
            "type": "histogram"
           }
          ],
          "histogram2d": [
           {
            "colorbar": {
             "outlinewidth": 0,
             "ticks": ""
            },
            "colorscale": [
             [
              0,
              "#0d0887"
             ],
             [
              0.1111111111111111,
              "#46039f"
             ],
             [
              0.2222222222222222,
              "#7201a8"
             ],
             [
              0.3333333333333333,
              "#9c179e"
             ],
             [
              0.4444444444444444,
              "#bd3786"
             ],
             [
              0.5555555555555556,
              "#d8576b"
             ],
             [
              0.6666666666666666,
              "#ed7953"
             ],
             [
              0.7777777777777778,
              "#fb9f3a"
             ],
             [
              0.8888888888888888,
              "#fdca26"
             ],
             [
              1,
              "#f0f921"
             ]
            ],
            "type": "histogram2d"
           }
          ],
          "histogram2dcontour": [
           {
            "colorbar": {
             "outlinewidth": 0,
             "ticks": ""
            },
            "colorscale": [
             [
              0,
              "#0d0887"
             ],
             [
              0.1111111111111111,
              "#46039f"
             ],
             [
              0.2222222222222222,
              "#7201a8"
             ],
             [
              0.3333333333333333,
              "#9c179e"
             ],
             [
              0.4444444444444444,
              "#bd3786"
             ],
             [
              0.5555555555555556,
              "#d8576b"
             ],
             [
              0.6666666666666666,
              "#ed7953"
             ],
             [
              0.7777777777777778,
              "#fb9f3a"
             ],
             [
              0.8888888888888888,
              "#fdca26"
             ],
             [
              1,
              "#f0f921"
             ]
            ],
            "type": "histogram2dcontour"
           }
          ],
          "mesh3d": [
           {
            "colorbar": {
             "outlinewidth": 0,
             "ticks": ""
            },
            "type": "mesh3d"
           }
          ],
          "parcoords": [
           {
            "line": {
             "colorbar": {
              "outlinewidth": 0,
              "ticks": ""
             }
            },
            "type": "parcoords"
           }
          ],
          "pie": [
           {
            "automargin": true,
            "type": "pie"
           }
          ],
          "scatter": [
           {
            "fillpattern": {
             "fillmode": "overlay",
             "size": 10,
             "solidity": 0.2
            },
            "type": "scatter"
           }
          ],
          "scatter3d": [
           {
            "line": {
             "colorbar": {
              "outlinewidth": 0,
              "ticks": ""
             }
            },
            "marker": {
             "colorbar": {
              "outlinewidth": 0,
              "ticks": ""
             }
            },
            "type": "scatter3d"
           }
          ],
          "scattercarpet": [
           {
            "marker": {
             "colorbar": {
              "outlinewidth": 0,
              "ticks": ""
             }
            },
            "type": "scattercarpet"
           }
          ],
          "scattergeo": [
           {
            "marker": {
             "colorbar": {
              "outlinewidth": 0,
              "ticks": ""
             }
            },
            "type": "scattergeo"
           }
          ],
          "scattergl": [
           {
            "marker": {
             "colorbar": {
              "outlinewidth": 0,
              "ticks": ""
             }
            },
            "type": "scattergl"
           }
          ],
          "scattermapbox": [
           {
            "marker": {
             "colorbar": {
              "outlinewidth": 0,
              "ticks": ""
             }
            },
            "type": "scattermapbox"
           }
          ],
          "scatterpolar": [
           {
            "marker": {
             "colorbar": {
              "outlinewidth": 0,
              "ticks": ""
             }
            },
            "type": "scatterpolar"
           }
          ],
          "scatterpolargl": [
           {
            "marker": {
             "colorbar": {
              "outlinewidth": 0,
              "ticks": ""
             }
            },
            "type": "scatterpolargl"
           }
          ],
          "scatterternary": [
           {
            "marker": {
             "colorbar": {
              "outlinewidth": 0,
              "ticks": ""
             }
            },
            "type": "scatterternary"
           }
          ],
          "surface": [
           {
            "colorbar": {
             "outlinewidth": 0,
             "ticks": ""
            },
            "colorscale": [
             [
              0,
              "#0d0887"
             ],
             [
              0.1111111111111111,
              "#46039f"
             ],
             [
              0.2222222222222222,
              "#7201a8"
             ],
             [
              0.3333333333333333,
              "#9c179e"
             ],
             [
              0.4444444444444444,
              "#bd3786"
             ],
             [
              0.5555555555555556,
              "#d8576b"
             ],
             [
              0.6666666666666666,
              "#ed7953"
             ],
             [
              0.7777777777777778,
              "#fb9f3a"
             ],
             [
              0.8888888888888888,
              "#fdca26"
             ],
             [
              1,
              "#f0f921"
             ]
            ],
            "type": "surface"
           }
          ],
          "table": [
           {
            "cells": {
             "fill": {
              "color": "#EBF0F8"
             },
             "line": {
              "color": "white"
             }
            },
            "header": {
             "fill": {
              "color": "#C8D4E3"
             },
             "line": {
              "color": "white"
             }
            },
            "type": "table"
           }
          ]
         },
         "layout": {
          "annotationdefaults": {
           "arrowcolor": "#2a3f5f",
           "arrowhead": 0,
           "arrowwidth": 1
          },
          "autotypenumbers": "strict",
          "coloraxis": {
           "colorbar": {
            "outlinewidth": 0,
            "ticks": ""
           }
          },
          "colorscale": {
           "diverging": [
            [
             0,
             "#8e0152"
            ],
            [
             0.1,
             "#c51b7d"
            ],
            [
             0.2,
             "#de77ae"
            ],
            [
             0.3,
             "#f1b6da"
            ],
            [
             0.4,
             "#fde0ef"
            ],
            [
             0.5,
             "#f7f7f7"
            ],
            [
             0.6,
             "#e6f5d0"
            ],
            [
             0.7,
             "#b8e186"
            ],
            [
             0.8,
             "#7fbc41"
            ],
            [
             0.9,
             "#4d9221"
            ],
            [
             1,
             "#276419"
            ]
           ],
           "sequential": [
            [
             0,
             "#0d0887"
            ],
            [
             0.1111111111111111,
             "#46039f"
            ],
            [
             0.2222222222222222,
             "#7201a8"
            ],
            [
             0.3333333333333333,
             "#9c179e"
            ],
            [
             0.4444444444444444,
             "#bd3786"
            ],
            [
             0.5555555555555556,
             "#d8576b"
            ],
            [
             0.6666666666666666,
             "#ed7953"
            ],
            [
             0.7777777777777778,
             "#fb9f3a"
            ],
            [
             0.8888888888888888,
             "#fdca26"
            ],
            [
             1,
             "#f0f921"
            ]
           ],
           "sequentialminus": [
            [
             0,
             "#0d0887"
            ],
            [
             0.1111111111111111,
             "#46039f"
            ],
            [
             0.2222222222222222,
             "#7201a8"
            ],
            [
             0.3333333333333333,
             "#9c179e"
            ],
            [
             0.4444444444444444,
             "#bd3786"
            ],
            [
             0.5555555555555556,
             "#d8576b"
            ],
            [
             0.6666666666666666,
             "#ed7953"
            ],
            [
             0.7777777777777778,
             "#fb9f3a"
            ],
            [
             0.8888888888888888,
             "#fdca26"
            ],
            [
             1,
             "#f0f921"
            ]
           ]
          },
          "colorway": [
           "#636efa",
           "#EF553B",
           "#00cc96",
           "#ab63fa",
           "#FFA15A",
           "#19d3f3",
           "#FF6692",
           "#B6E880",
           "#FF97FF",
           "#FECB52"
          ],
          "font": {
           "color": "#2a3f5f"
          },
          "geo": {
           "bgcolor": "white",
           "lakecolor": "white",
           "landcolor": "#E5ECF6",
           "showlakes": true,
           "showland": true,
           "subunitcolor": "white"
          },
          "hoverlabel": {
           "align": "left"
          },
          "hovermode": "closest",
          "mapbox": {
           "style": "light"
          },
          "paper_bgcolor": "white",
          "plot_bgcolor": "#E5ECF6",
          "polar": {
           "angularaxis": {
            "gridcolor": "white",
            "linecolor": "white",
            "ticks": ""
           },
           "bgcolor": "#E5ECF6",
           "radialaxis": {
            "gridcolor": "white",
            "linecolor": "white",
            "ticks": ""
           }
          },
          "scene": {
           "xaxis": {
            "backgroundcolor": "#E5ECF6",
            "gridcolor": "white",
            "gridwidth": 2,
            "linecolor": "white",
            "showbackground": true,
            "ticks": "",
            "zerolinecolor": "white"
           },
           "yaxis": {
            "backgroundcolor": "#E5ECF6",
            "gridcolor": "white",
            "gridwidth": 2,
            "linecolor": "white",
            "showbackground": true,
            "ticks": "",
            "zerolinecolor": "white"
           },
           "zaxis": {
            "backgroundcolor": "#E5ECF6",
            "gridcolor": "white",
            "gridwidth": 2,
            "linecolor": "white",
            "showbackground": true,
            "ticks": "",
            "zerolinecolor": "white"
           }
          },
          "shapedefaults": {
           "line": {
            "color": "#2a3f5f"
           }
          },
          "ternary": {
           "aaxis": {
            "gridcolor": "white",
            "linecolor": "white",
            "ticks": ""
           },
           "baxis": {
            "gridcolor": "white",
            "linecolor": "white",
            "ticks": ""
           },
           "bgcolor": "#E5ECF6",
           "caxis": {
            "gridcolor": "white",
            "linecolor": "white",
            "ticks": ""
           }
          },
          "title": {
           "x": 0.05
          },
          "xaxis": {
           "automargin": true,
           "gridcolor": "white",
           "linecolor": "white",
           "ticks": "",
           "title": {
            "standoff": 15
           },
           "zerolinecolor": "white",
           "zerolinewidth": 2
          },
          "yaxis": {
           "automargin": true,
           "gridcolor": "white",
           "linecolor": "white",
           "ticks": "",
           "title": {
            "standoff": 15
           },
           "zerolinecolor": "white",
           "zerolinewidth": 2
          }
         }
        }
       }
      }
     },
     "metadata": {},
     "output_type": "display_data"
    }
   ],
   "source": [
    "import plotly.express as px\n",
    "\n",
    "df = transaction_history[transaction_history[\"Debit Amount\"].notna()][[\"Category\", \"Debit Amount\"]].groupby(\"Category\").sum()\n",
    "fig = px.pie(df, values=\"Debit Amount\", names=df.index)\n",
    "fig.show()"
   ]
  },
  {
   "cell_type": "code",
   "execution_count": 154,
   "metadata": {},
   "outputs": [
    {
     "data": {
      "application/vnd.plotly.v1+json": {
       "config": {
        "plotlyServerURL": "https://plot.ly"
       },
       "data": [
        {
         "alignmentgroup": "True",
         "hovertemplate": "In/Out=Out<br>Month=%{x}<br>Amount=%{y}<extra></extra>",
         "legendgroup": "Out",
         "marker": {
          "color": "rgb(204, 102, 119)",
          "pattern": {
           "shape": ""
          }
         },
         "name": "Out",
         "offsetgroup": "Out",
         "orientation": "v",
         "showlegend": true,
         "textposition": "auto",
         "type": "bar",
         "x": [
          "06 Jun",
          "07 Jul",
          "08 Aug",
          "09 Sep",
          "10 Oct",
          "11 Nov",
          "12 Dec"
         ],
         "xaxis": "x",
         "y": [
          212.79,
          239.97,
          283.98,
          781.38,
          711.05,
          2176.21,
          731.26
         ],
         "yaxis": "y"
        },
        {
         "alignmentgroup": "True",
         "hovertemplate": "In/Out=In<br>Month=%{x}<br>Amount=%{y}<extra></extra>",
         "legendgroup": "In",
         "marker": {
          "color": "rgb(68, 170, 153)",
          "pattern": {
           "shape": ""
          }
         },
         "name": "In",
         "offsetgroup": "In",
         "orientation": "v",
         "showlegend": true,
         "textposition": "auto",
         "type": "bar",
         "x": [
          "07 Jul",
          "08 Aug",
          "09 Sep",
          "10 Oct",
          "11 Nov",
          "12 Dec"
         ],
         "xaxis": "x",
         "y": [
          706.29,
          755,
          755,
          1015,
          1105,
          1505
         ],
         "yaxis": "y"
        }
       ],
       "layout": {
        "barmode": "group",
        "legend": {
         "title": {
          "text": "In/Out"
         },
         "tracegroupgap": 0
        },
        "margin": {
         "t": 60
        },
        "template": {
         "data": {
          "bar": [
           {
            "error_x": {
             "color": "#2a3f5f"
            },
            "error_y": {
             "color": "#2a3f5f"
            },
            "marker": {
             "line": {
              "color": "#E5ECF6",
              "width": 0.5
             },
             "pattern": {
              "fillmode": "overlay",
              "size": 10,
              "solidity": 0.2
             }
            },
            "type": "bar"
           }
          ],
          "barpolar": [
           {
            "marker": {
             "line": {
              "color": "#E5ECF6",
              "width": 0.5
             },
             "pattern": {
              "fillmode": "overlay",
              "size": 10,
              "solidity": 0.2
             }
            },
            "type": "barpolar"
           }
          ],
          "carpet": [
           {
            "aaxis": {
             "endlinecolor": "#2a3f5f",
             "gridcolor": "white",
             "linecolor": "white",
             "minorgridcolor": "white",
             "startlinecolor": "#2a3f5f"
            },
            "baxis": {
             "endlinecolor": "#2a3f5f",
             "gridcolor": "white",
             "linecolor": "white",
             "minorgridcolor": "white",
             "startlinecolor": "#2a3f5f"
            },
            "type": "carpet"
           }
          ],
          "choropleth": [
           {
            "colorbar": {
             "outlinewidth": 0,
             "ticks": ""
            },
            "type": "choropleth"
           }
          ],
          "contour": [
           {
            "colorbar": {
             "outlinewidth": 0,
             "ticks": ""
            },
            "colorscale": [
             [
              0,
              "#0d0887"
             ],
             [
              0.1111111111111111,
              "#46039f"
             ],
             [
              0.2222222222222222,
              "#7201a8"
             ],
             [
              0.3333333333333333,
              "#9c179e"
             ],
             [
              0.4444444444444444,
              "#bd3786"
             ],
             [
              0.5555555555555556,
              "#d8576b"
             ],
             [
              0.6666666666666666,
              "#ed7953"
             ],
             [
              0.7777777777777778,
              "#fb9f3a"
             ],
             [
              0.8888888888888888,
              "#fdca26"
             ],
             [
              1,
              "#f0f921"
             ]
            ],
            "type": "contour"
           }
          ],
          "contourcarpet": [
           {
            "colorbar": {
             "outlinewidth": 0,
             "ticks": ""
            },
            "type": "contourcarpet"
           }
          ],
          "heatmap": [
           {
            "colorbar": {
             "outlinewidth": 0,
             "ticks": ""
            },
            "colorscale": [
             [
              0,
              "#0d0887"
             ],
             [
              0.1111111111111111,
              "#46039f"
             ],
             [
              0.2222222222222222,
              "#7201a8"
             ],
             [
              0.3333333333333333,
              "#9c179e"
             ],
             [
              0.4444444444444444,
              "#bd3786"
             ],
             [
              0.5555555555555556,
              "#d8576b"
             ],
             [
              0.6666666666666666,
              "#ed7953"
             ],
             [
              0.7777777777777778,
              "#fb9f3a"
             ],
             [
              0.8888888888888888,
              "#fdca26"
             ],
             [
              1,
              "#f0f921"
             ]
            ],
            "type": "heatmap"
           }
          ],
          "heatmapgl": [
           {
            "colorbar": {
             "outlinewidth": 0,
             "ticks": ""
            },
            "colorscale": [
             [
              0,
              "#0d0887"
             ],
             [
              0.1111111111111111,
              "#46039f"
             ],
             [
              0.2222222222222222,
              "#7201a8"
             ],
             [
              0.3333333333333333,
              "#9c179e"
             ],
             [
              0.4444444444444444,
              "#bd3786"
             ],
             [
              0.5555555555555556,
              "#d8576b"
             ],
             [
              0.6666666666666666,
              "#ed7953"
             ],
             [
              0.7777777777777778,
              "#fb9f3a"
             ],
             [
              0.8888888888888888,
              "#fdca26"
             ],
             [
              1,
              "#f0f921"
             ]
            ],
            "type": "heatmapgl"
           }
          ],
          "histogram": [
           {
            "marker": {
             "pattern": {
              "fillmode": "overlay",
              "size": 10,
              "solidity": 0.2
             }
            },
            "type": "histogram"
           }
          ],
          "histogram2d": [
           {
            "colorbar": {
             "outlinewidth": 0,
             "ticks": ""
            },
            "colorscale": [
             [
              0,
              "#0d0887"
             ],
             [
              0.1111111111111111,
              "#46039f"
             ],
             [
              0.2222222222222222,
              "#7201a8"
             ],
             [
              0.3333333333333333,
              "#9c179e"
             ],
             [
              0.4444444444444444,
              "#bd3786"
             ],
             [
              0.5555555555555556,
              "#d8576b"
             ],
             [
              0.6666666666666666,
              "#ed7953"
             ],
             [
              0.7777777777777778,
              "#fb9f3a"
             ],
             [
              0.8888888888888888,
              "#fdca26"
             ],
             [
              1,
              "#f0f921"
             ]
            ],
            "type": "histogram2d"
           }
          ],
          "histogram2dcontour": [
           {
            "colorbar": {
             "outlinewidth": 0,
             "ticks": ""
            },
            "colorscale": [
             [
              0,
              "#0d0887"
             ],
             [
              0.1111111111111111,
              "#46039f"
             ],
             [
              0.2222222222222222,
              "#7201a8"
             ],
             [
              0.3333333333333333,
              "#9c179e"
             ],
             [
              0.4444444444444444,
              "#bd3786"
             ],
             [
              0.5555555555555556,
              "#d8576b"
             ],
             [
              0.6666666666666666,
              "#ed7953"
             ],
             [
              0.7777777777777778,
              "#fb9f3a"
             ],
             [
              0.8888888888888888,
              "#fdca26"
             ],
             [
              1,
              "#f0f921"
             ]
            ],
            "type": "histogram2dcontour"
           }
          ],
          "mesh3d": [
           {
            "colorbar": {
             "outlinewidth": 0,
             "ticks": ""
            },
            "type": "mesh3d"
           }
          ],
          "parcoords": [
           {
            "line": {
             "colorbar": {
              "outlinewidth": 0,
              "ticks": ""
             }
            },
            "type": "parcoords"
           }
          ],
          "pie": [
           {
            "automargin": true,
            "type": "pie"
           }
          ],
          "scatter": [
           {
            "fillpattern": {
             "fillmode": "overlay",
             "size": 10,
             "solidity": 0.2
            },
            "type": "scatter"
           }
          ],
          "scatter3d": [
           {
            "line": {
             "colorbar": {
              "outlinewidth": 0,
              "ticks": ""
             }
            },
            "marker": {
             "colorbar": {
              "outlinewidth": 0,
              "ticks": ""
             }
            },
            "type": "scatter3d"
           }
          ],
          "scattercarpet": [
           {
            "marker": {
             "colorbar": {
              "outlinewidth": 0,
              "ticks": ""
             }
            },
            "type": "scattercarpet"
           }
          ],
          "scattergeo": [
           {
            "marker": {
             "colorbar": {
              "outlinewidth": 0,
              "ticks": ""
             }
            },
            "type": "scattergeo"
           }
          ],
          "scattergl": [
           {
            "marker": {
             "colorbar": {
              "outlinewidth": 0,
              "ticks": ""
             }
            },
            "type": "scattergl"
           }
          ],
          "scattermapbox": [
           {
            "marker": {
             "colorbar": {
              "outlinewidth": 0,
              "ticks": ""
             }
            },
            "type": "scattermapbox"
           }
          ],
          "scatterpolar": [
           {
            "marker": {
             "colorbar": {
              "outlinewidth": 0,
              "ticks": ""
             }
            },
            "type": "scatterpolar"
           }
          ],
          "scatterpolargl": [
           {
            "marker": {
             "colorbar": {
              "outlinewidth": 0,
              "ticks": ""
             }
            },
            "type": "scatterpolargl"
           }
          ],
          "scatterternary": [
           {
            "marker": {
             "colorbar": {
              "outlinewidth": 0,
              "ticks": ""
             }
            },
            "type": "scatterternary"
           }
          ],
          "surface": [
           {
            "colorbar": {
             "outlinewidth": 0,
             "ticks": ""
            },
            "colorscale": [
             [
              0,
              "#0d0887"
             ],
             [
              0.1111111111111111,
              "#46039f"
             ],
             [
              0.2222222222222222,
              "#7201a8"
             ],
             [
              0.3333333333333333,
              "#9c179e"
             ],
             [
              0.4444444444444444,
              "#bd3786"
             ],
             [
              0.5555555555555556,
              "#d8576b"
             ],
             [
              0.6666666666666666,
              "#ed7953"
             ],
             [
              0.7777777777777778,
              "#fb9f3a"
             ],
             [
              0.8888888888888888,
              "#fdca26"
             ],
             [
              1,
              "#f0f921"
             ]
            ],
            "type": "surface"
           }
          ],
          "table": [
           {
            "cells": {
             "fill": {
              "color": "#EBF0F8"
             },
             "line": {
              "color": "white"
             }
            },
            "header": {
             "fill": {
              "color": "#C8D4E3"
             },
             "line": {
              "color": "white"
             }
            },
            "type": "table"
           }
          ]
         },
         "layout": {
          "annotationdefaults": {
           "arrowcolor": "#2a3f5f",
           "arrowhead": 0,
           "arrowwidth": 1
          },
          "autotypenumbers": "strict",
          "coloraxis": {
           "colorbar": {
            "outlinewidth": 0,
            "ticks": ""
           }
          },
          "colorscale": {
           "diverging": [
            [
             0,
             "#8e0152"
            ],
            [
             0.1,
             "#c51b7d"
            ],
            [
             0.2,
             "#de77ae"
            ],
            [
             0.3,
             "#f1b6da"
            ],
            [
             0.4,
             "#fde0ef"
            ],
            [
             0.5,
             "#f7f7f7"
            ],
            [
             0.6,
             "#e6f5d0"
            ],
            [
             0.7,
             "#b8e186"
            ],
            [
             0.8,
             "#7fbc41"
            ],
            [
             0.9,
             "#4d9221"
            ],
            [
             1,
             "#276419"
            ]
           ],
           "sequential": [
            [
             0,
             "#0d0887"
            ],
            [
             0.1111111111111111,
             "#46039f"
            ],
            [
             0.2222222222222222,
             "#7201a8"
            ],
            [
             0.3333333333333333,
             "#9c179e"
            ],
            [
             0.4444444444444444,
             "#bd3786"
            ],
            [
             0.5555555555555556,
             "#d8576b"
            ],
            [
             0.6666666666666666,
             "#ed7953"
            ],
            [
             0.7777777777777778,
             "#fb9f3a"
            ],
            [
             0.8888888888888888,
             "#fdca26"
            ],
            [
             1,
             "#f0f921"
            ]
           ],
           "sequentialminus": [
            [
             0,
             "#0d0887"
            ],
            [
             0.1111111111111111,
             "#46039f"
            ],
            [
             0.2222222222222222,
             "#7201a8"
            ],
            [
             0.3333333333333333,
             "#9c179e"
            ],
            [
             0.4444444444444444,
             "#bd3786"
            ],
            [
             0.5555555555555556,
             "#d8576b"
            ],
            [
             0.6666666666666666,
             "#ed7953"
            ],
            [
             0.7777777777777778,
             "#fb9f3a"
            ],
            [
             0.8888888888888888,
             "#fdca26"
            ],
            [
             1,
             "#f0f921"
            ]
           ]
          },
          "colorway": [
           "#636efa",
           "#EF553B",
           "#00cc96",
           "#ab63fa",
           "#FFA15A",
           "#19d3f3",
           "#FF6692",
           "#B6E880",
           "#FF97FF",
           "#FECB52"
          ],
          "font": {
           "color": "#2a3f5f"
          },
          "geo": {
           "bgcolor": "white",
           "lakecolor": "white",
           "landcolor": "#E5ECF6",
           "showlakes": true,
           "showland": true,
           "subunitcolor": "white"
          },
          "hoverlabel": {
           "align": "left"
          },
          "hovermode": "closest",
          "mapbox": {
           "style": "light"
          },
          "paper_bgcolor": "white",
          "plot_bgcolor": "#E5ECF6",
          "polar": {
           "angularaxis": {
            "gridcolor": "white",
            "linecolor": "white",
            "ticks": ""
           },
           "bgcolor": "#E5ECF6",
           "radialaxis": {
            "gridcolor": "white",
            "linecolor": "white",
            "ticks": ""
           }
          },
          "scene": {
           "xaxis": {
            "backgroundcolor": "#E5ECF6",
            "gridcolor": "white",
            "gridwidth": 2,
            "linecolor": "white",
            "showbackground": true,
            "ticks": "",
            "zerolinecolor": "white"
           },
           "yaxis": {
            "backgroundcolor": "#E5ECF6",
            "gridcolor": "white",
            "gridwidth": 2,
            "linecolor": "white",
            "showbackground": true,
            "ticks": "",
            "zerolinecolor": "white"
           },
           "zaxis": {
            "backgroundcolor": "#E5ECF6",
            "gridcolor": "white",
            "gridwidth": 2,
            "linecolor": "white",
            "showbackground": true,
            "ticks": "",
            "zerolinecolor": "white"
           }
          },
          "shapedefaults": {
           "line": {
            "color": "#2a3f5f"
           }
          },
          "ternary": {
           "aaxis": {
            "gridcolor": "white",
            "linecolor": "white",
            "ticks": ""
           },
           "baxis": {
            "gridcolor": "white",
            "linecolor": "white",
            "ticks": ""
           },
           "bgcolor": "#E5ECF6",
           "caxis": {
            "gridcolor": "white",
            "linecolor": "white",
            "ticks": ""
           }
          },
          "title": {
           "x": 0.05
          },
          "xaxis": {
           "automargin": true,
           "gridcolor": "white",
           "linecolor": "white",
           "ticks": "",
           "title": {
            "standoff": 15
           },
           "zerolinecolor": "white",
           "zerolinewidth": 2
          },
          "yaxis": {
           "automargin": true,
           "gridcolor": "white",
           "linecolor": "white",
           "ticks": "",
           "title": {
            "standoff": 15
           },
           "zerolinecolor": "white",
           "zerolinewidth": 2
          }
         }
        },
        "xaxis": {
         "anchor": "y",
         "domain": [
          0,
          1
         ],
         "title": {
          "text": "Month"
         }
        },
        "yaxis": {
         "anchor": "x",
         "domain": [
          0,
          1
         ],
         "title": {
          "text": "Amount"
         }
        }
       }
      }
     },
     "metadata": {},
     "output_type": "display_data"
    }
   ],
   "source": [
    "df = transaction_history\n",
    "df[\"In/Out\"] = df[\"Category\"].apply(lambda x: \"In\" if x == \"Salary\" else \"Out\")\n",
    "df[\"Amount\"] = df[\"Debit Amount\"]\n",
    "df[\"Amount\"] = df[\"Amount\"].fillna(-df[\"Credit Amount\"])\n",
    "df.loc[df[\"Category\"]==\"Salary\", \"Amount\"] *= -1\n",
    "\n",
    "df = df[[\"Month\", \"In/Out\", \"Amount\"]].groupby([\"Month\", \"In/Out\"]).sum()\n",
    "\n",
    "fig = px.bar(df.reset_index(), x=\"Month\", y=\"Amount\", color=\"In/Out\", barmode=\"group\", color_discrete_map={\"In\": \"rgb(68, 170, 153)\", \"Out\": \"rgb(204, 102, 119)\"})\n",
    "fig.show()"
   ]
  },
  {
   "cell_type": "code",
   "execution_count": 155,
   "metadata": {},
   "outputs": [
    {
     "data": {
      "application/vnd.plotly.v1+json": {
       "config": {
        "plotlyServerURL": "https://plot.ly"
       },
       "data": [
        {
         "alignmentgroup": "True",
         "hovertemplate": "Category=%{x}<br>Debit Amount=%{y}<extra></extra>",
         "legendgroup": "",
         "marker": {
          "color": "#636efa"
         },
         "name": "",
         "notched": false,
         "offsetgroup": "",
         "orientation": "v",
         "showlegend": false,
         "type": "box",
         "x": [
          "Shopping",
          "Transfers",
          "Transfers",
          "Shopping",
          "F&B",
          "Shopping",
          "F&B",
          "Shopping",
          "Shopping",
          "Shopping",
          "Shopping",
          "Transport",
          "Transport",
          "Transport",
          "Transport",
          "F&B",
          "F&B",
          "Shopping",
          "Shopping",
          "Shopping",
          "Shopping",
          "Transfers",
          "Shopping",
          "Shopping",
          "Shopping",
          "Transport",
          "Transport",
          "Shopping",
          "Shopping",
          "Shopping",
          "Shopping",
          "Shopping",
          "Shopping",
          "Shopping",
          "Transport",
          "F&B",
          "Transfers",
          "Shopping",
          "Shopping",
          "Shopping",
          "Shopping",
          "Salary",
          "Transfers",
          "Shopping",
          "Shopping",
          "Shopping",
          "Shopping",
          "Shopping",
          "Transport",
          "Shopping",
          "Shopping",
          "Salary",
          "Transport",
          "Transport",
          "Shopping",
          "Transport",
          "Shopping",
          "F&B",
          "F&B",
          "F&B",
          "F&B",
          "Transport",
          "Transport",
          "Transport",
          "Transport",
          "F&B",
          "Transport",
          "Transport",
          "F&B",
          "Transfers",
          "Transfers",
          "F&B",
          "F&B",
          "Transfers",
          "F&B",
          "Transfers",
          "Transport",
          "Transfers",
          "Shopping",
          "Shopping",
          "Shopping",
          "Shopping",
          "Shopping",
          "Shopping",
          "Shopping",
          "Shopping",
          "Shopping",
          "Shopping",
          "Transfers",
          "Transfers",
          "Transfers",
          "Transfers",
          "F&B",
          "F&B",
          "Transport",
          "Shopping",
          "Shopping",
          "Transport",
          "F&B",
          "Shopping",
          "F&B",
          "Shopping",
          "F&B",
          "F&B",
          "Shopping",
          "Transport",
          "F&B",
          "F&B",
          "Shopping",
          "Transport",
          "Shopping",
          "Shopping",
          "Transfers",
          "F&B",
          "Shopping",
          "Transport",
          "Transfers",
          "Transfers",
          "Transfers",
          "Transfers",
          "Transfers",
          "Transport",
          "F&B",
          "F&B",
          "F&B",
          "Shopping",
          "F&B",
          "Salary",
          "Shopping",
          "Shopping",
          "Transport",
          "Shopping",
          "Shopping",
          "F&B",
          "Shopping",
          "Transfers",
          "Shopping",
          "Shopping",
          "Transfers",
          "Transport",
          "Shopping",
          "Transport",
          "Transfers",
          "Transfers",
          "Shopping",
          "Shopping",
          "Shopping",
          "F&B",
          "F&B",
          "F&B",
          "Shopping",
          "Shopping",
          "Shopping",
          "Transport",
          "Shopping",
          "F&B",
          "F&B",
          "F&B",
          "Shopping",
          "Shopping",
          "Transport",
          "F&B",
          "Transfers",
          "Transport",
          "F&B",
          "F&B",
          "F&B",
          "F&B",
          "Transfers",
          "Transfers",
          "Shopping",
          "F&B",
          "Shopping",
          "F&B",
          "Transport",
          "Shopping",
          "Shopping",
          "Shopping",
          "Transfers",
          "Transfers",
          "Shopping",
          "Transport",
          "Transport",
          "F&B",
          "Shopping",
          "F&B",
          "Shopping",
          "F&B",
          "Transport",
          "Transport",
          "Transport",
          "Transfers",
          "Salary",
          "F&B",
          "Transport",
          "Transfers",
          "Transfers",
          "Transport",
          "Shopping",
          "Shopping",
          "Shopping",
          "F&B",
          "Shopping",
          "Transport",
          "Shopping",
          "Shopping",
          "Transport",
          "Shopping",
          "Transport",
          "Transport",
          "F&B",
          "F&B",
          "Shopping",
          "F&B",
          "Transport",
          "Shopping",
          "Shopping",
          "F&B",
          "Transfers",
          "Transport",
          "Shopping",
          "F&B",
          "Transport",
          "Transfers",
          "F&B",
          "Transport",
          "Shopping",
          "F&B",
          "Transport",
          "F&B",
          "Shopping",
          "F&B",
          "F&B",
          "Transfers",
          "F&B",
          "Transfers",
          "Shopping",
          "Shopping",
          "Shopping",
          "Shopping",
          "Shopping",
          "F&B",
          "Shopping",
          "Shopping",
          "Salary",
          "Transport",
          "Shopping",
          "F&B",
          "F&B",
          "Shopping",
          "Transport",
          "Transport",
          "F&B",
          "Transport",
          "F&B",
          "Shopping",
          "F&B",
          "Shopping",
          "Shopping",
          "Transfers",
          "Shopping",
          "Shopping",
          "Shopping",
          "Shopping",
          "Shopping",
          "Transfers",
          "Transfers",
          "Transport",
          "Transfers",
          "Transfers",
          "F&B",
          "Transfers",
          "Transport",
          "Shopping",
          "F&B",
          "Shopping",
          "Shopping",
          "Shopping",
          "Transport",
          "Shopping",
          "F&B",
          "Shopping",
          "Shopping",
          "Shopping",
          "Transfers",
          "Transfers",
          "F&B",
          "F&B",
          "Shopping",
          "F&B",
          "Shopping",
          "Shopping",
          "Shopping",
          "Salary",
          "Transport",
          "Shopping",
          "Transport",
          "Shopping",
          "F&B",
          "Shopping",
          "Shopping",
          "F&B",
          "Transfers",
          "Shopping",
          "Shopping",
          "Shopping",
          "F&B",
          "Shopping",
          "Shopping",
          "Transfers",
          "Transfers",
          "Transfers",
          "F&B",
          "Salary",
          "Transport",
          "F&B",
          "Shopping",
          "Transport",
          "F&B",
          "F&B",
          "Transfers",
          "F&B",
          "Shopping",
          "Shopping",
          "Shopping",
          "F&B",
          "Shopping",
          "F&B",
          "F&B",
          "Transport",
          "Shopping",
          "Shopping",
          "Shopping",
          "Shopping",
          "Medical",
          "F&B"
         ],
         "x0": " ",
         "xaxis": "x",
         "y": [
          4.6,
          500,
          null,
          5.76,
          15,
          18,
          6,
          22.67,
          29.8,
          39.7,
          9.8,
          22.12,
          7.19,
          4,
          30.1,
          12,
          1.8,
          4.4,
          10,
          5.9,
          3.5,
          null,
          9,
          6.8,
          9.8,
          16.19,
          1.09,
          2.2,
          34.9,
          3.5,
          9,
          21.9,
          5.9,
          23,
          13.9,
          16,
          null,
          6,
          39,
          0.5,
          4.4,
          null,
          100,
          9.73,
          10.05,
          3,
          2.2,
          12,
          17.81,
          20,
          6.6,
          null,
          20.1,
          6.5,
          null,
          16.38,
          41.99,
          22.4,
          22.8,
          4.6,
          1.3,
          20.69,
          17.7,
          20.5,
          49.8,
          24.45,
          3.09,
          12.2,
          2,
          null,
          20,
          9.35,
          1.2,
          22,
          53.48,
          21.8,
          16.14,
          null,
          38,
          3.48,
          8,
          116.8,
          54,
          20,
          8,
          20,
          10,
          20,
          50,
          50,
          7,
          20,
          4.6,
          20.3,
          16.5,
          42,
          4.75,
          1.09,
          16.8,
          2.5,
          3,
          2.2,
          28.4,
          4,
          69.1,
          20.45,
          15.6,
          29.23,
          15.9,
          14,
          15.3,
          18,
          360,
          13.4,
          67.5,
          5.57,
          null,
          null,
          null,
          115,
          30,
          22.53,
          1.1,
          1,
          53.48,
          39.9,
          9.25,
          null,
          2.5,
          53.8,
          69.9,
          179.8,
          29.9,
          6.6,
          3.3,
          115,
          2.81,
          null,
          250,
          2.3,
          5.9,
          8.73,
          null,
          500,
          1.6,
          18.01,
          64,
          19.43,
          1.4,
          1.1,
          17.6,
          20,
          4.7,
          2.18,
          50,
          19.7,
          1.1,
          28.3,
          22.9,
          11.8,
          14.5,
          1.1,
          null,
          3.29,
          14.3,
          26.4,
          4.6,
          6.9,
          2,
          5,
          18.8,
          1.2,
          29.9,
          6.25,
          18.45,
          12,
          104.8,
          48.4,
          4,
          17,
          82,
          10.73,
          5.67,
          2,
          5.4,
          17.6,
          23.9,
          11.8,
          35.2,
          27.9,
          1.19,
          35,
          null,
          42.56,
          1.83,
          null,
          null,
          15.48,
          5,
          1.6,
          1,
          8.15,
          18.9,
          5.97,
          20,
          15.3,
          4.38,
          3.9,
          3.4,
          37.7,
          3.4,
          19.6,
          6.3,
          30.4,
          8.44,
          2,
          15,
          1.6,
          null,
          1.09,
          10,
          1.5,
          16.9,
          50,
          3,
          3.37,
          19.8,
          28,
          20.56,
          14.8,
          5.4,
          0.5,
          14.6,
          null,
          38.01,
          20,
          29.9,
          89.82,
          18.95,
          null,
          70,
          13.9,
          4.5,
          50.25,
          null,
          12.62,
          24.6,
          25.8,
          14.1,
          1,
          8.28,
          1.71,
          29.7,
          4.21,
          2,
          7,
          9,
          7,
          1,
          null,
          null,
          19.4,
          2.6,
          18,
          16.6,
          10,
          20,
          18.23,
          3.2,
          null,
          13.2,
          50,
          11.54,
          19.9,
          61.6,
          78,
          54.99,
          41,
          17.89,
          49.8,
          8.9,
          null,
          35,
          5.7,
          56.82,
          null,
          3,
          20.5,
          17.8,
          7.8,
          16.3,
          null,
          9.2,
          null,
          9.9,
          1.21,
          7.16,
          20,
          3.95,
          3,
          5.2,
          14,
          null,
          48.2,
          13,
          1.7,
          28.3,
          0.61,
          0.61,
          2,
          null,
          10,
          12.3,
          null,
          6.85,
          16,
          64.9,
          18.41,
          6.5,
          29.74,
          null,
          11.9,
          3.4,
          16.4,
          10,
          48.8,
          2,
          11.35,
          10.6,
          6.64,
          3.15,
          40,
          26.4,
          3.55,
          17.3,
          13.2
         ],
         "y0": " ",
         "yaxis": "y"
        }
       ],
       "layout": {
        "boxmode": "group",
        "legend": {
         "tracegroupgap": 0
        },
        "margin": {
         "t": 60
        },
        "template": {
         "data": {
          "bar": [
           {
            "error_x": {
             "color": "#2a3f5f"
            },
            "error_y": {
             "color": "#2a3f5f"
            },
            "marker": {
             "line": {
              "color": "#E5ECF6",
              "width": 0.5
             },
             "pattern": {
              "fillmode": "overlay",
              "size": 10,
              "solidity": 0.2
             }
            },
            "type": "bar"
           }
          ],
          "barpolar": [
           {
            "marker": {
             "line": {
              "color": "#E5ECF6",
              "width": 0.5
             },
             "pattern": {
              "fillmode": "overlay",
              "size": 10,
              "solidity": 0.2
             }
            },
            "type": "barpolar"
           }
          ],
          "carpet": [
           {
            "aaxis": {
             "endlinecolor": "#2a3f5f",
             "gridcolor": "white",
             "linecolor": "white",
             "minorgridcolor": "white",
             "startlinecolor": "#2a3f5f"
            },
            "baxis": {
             "endlinecolor": "#2a3f5f",
             "gridcolor": "white",
             "linecolor": "white",
             "minorgridcolor": "white",
             "startlinecolor": "#2a3f5f"
            },
            "type": "carpet"
           }
          ],
          "choropleth": [
           {
            "colorbar": {
             "outlinewidth": 0,
             "ticks": ""
            },
            "type": "choropleth"
           }
          ],
          "contour": [
           {
            "colorbar": {
             "outlinewidth": 0,
             "ticks": ""
            },
            "colorscale": [
             [
              0,
              "#0d0887"
             ],
             [
              0.1111111111111111,
              "#46039f"
             ],
             [
              0.2222222222222222,
              "#7201a8"
             ],
             [
              0.3333333333333333,
              "#9c179e"
             ],
             [
              0.4444444444444444,
              "#bd3786"
             ],
             [
              0.5555555555555556,
              "#d8576b"
             ],
             [
              0.6666666666666666,
              "#ed7953"
             ],
             [
              0.7777777777777778,
              "#fb9f3a"
             ],
             [
              0.8888888888888888,
              "#fdca26"
             ],
             [
              1,
              "#f0f921"
             ]
            ],
            "type": "contour"
           }
          ],
          "contourcarpet": [
           {
            "colorbar": {
             "outlinewidth": 0,
             "ticks": ""
            },
            "type": "contourcarpet"
           }
          ],
          "heatmap": [
           {
            "colorbar": {
             "outlinewidth": 0,
             "ticks": ""
            },
            "colorscale": [
             [
              0,
              "#0d0887"
             ],
             [
              0.1111111111111111,
              "#46039f"
             ],
             [
              0.2222222222222222,
              "#7201a8"
             ],
             [
              0.3333333333333333,
              "#9c179e"
             ],
             [
              0.4444444444444444,
              "#bd3786"
             ],
             [
              0.5555555555555556,
              "#d8576b"
             ],
             [
              0.6666666666666666,
              "#ed7953"
             ],
             [
              0.7777777777777778,
              "#fb9f3a"
             ],
             [
              0.8888888888888888,
              "#fdca26"
             ],
             [
              1,
              "#f0f921"
             ]
            ],
            "type": "heatmap"
           }
          ],
          "heatmapgl": [
           {
            "colorbar": {
             "outlinewidth": 0,
             "ticks": ""
            },
            "colorscale": [
             [
              0,
              "#0d0887"
             ],
             [
              0.1111111111111111,
              "#46039f"
             ],
             [
              0.2222222222222222,
              "#7201a8"
             ],
             [
              0.3333333333333333,
              "#9c179e"
             ],
             [
              0.4444444444444444,
              "#bd3786"
             ],
             [
              0.5555555555555556,
              "#d8576b"
             ],
             [
              0.6666666666666666,
              "#ed7953"
             ],
             [
              0.7777777777777778,
              "#fb9f3a"
             ],
             [
              0.8888888888888888,
              "#fdca26"
             ],
             [
              1,
              "#f0f921"
             ]
            ],
            "type": "heatmapgl"
           }
          ],
          "histogram": [
           {
            "marker": {
             "pattern": {
              "fillmode": "overlay",
              "size": 10,
              "solidity": 0.2
             }
            },
            "type": "histogram"
           }
          ],
          "histogram2d": [
           {
            "colorbar": {
             "outlinewidth": 0,
             "ticks": ""
            },
            "colorscale": [
             [
              0,
              "#0d0887"
             ],
             [
              0.1111111111111111,
              "#46039f"
             ],
             [
              0.2222222222222222,
              "#7201a8"
             ],
             [
              0.3333333333333333,
              "#9c179e"
             ],
             [
              0.4444444444444444,
              "#bd3786"
             ],
             [
              0.5555555555555556,
              "#d8576b"
             ],
             [
              0.6666666666666666,
              "#ed7953"
             ],
             [
              0.7777777777777778,
              "#fb9f3a"
             ],
             [
              0.8888888888888888,
              "#fdca26"
             ],
             [
              1,
              "#f0f921"
             ]
            ],
            "type": "histogram2d"
           }
          ],
          "histogram2dcontour": [
           {
            "colorbar": {
             "outlinewidth": 0,
             "ticks": ""
            },
            "colorscale": [
             [
              0,
              "#0d0887"
             ],
             [
              0.1111111111111111,
              "#46039f"
             ],
             [
              0.2222222222222222,
              "#7201a8"
             ],
             [
              0.3333333333333333,
              "#9c179e"
             ],
             [
              0.4444444444444444,
              "#bd3786"
             ],
             [
              0.5555555555555556,
              "#d8576b"
             ],
             [
              0.6666666666666666,
              "#ed7953"
             ],
             [
              0.7777777777777778,
              "#fb9f3a"
             ],
             [
              0.8888888888888888,
              "#fdca26"
             ],
             [
              1,
              "#f0f921"
             ]
            ],
            "type": "histogram2dcontour"
           }
          ],
          "mesh3d": [
           {
            "colorbar": {
             "outlinewidth": 0,
             "ticks": ""
            },
            "type": "mesh3d"
           }
          ],
          "parcoords": [
           {
            "line": {
             "colorbar": {
              "outlinewidth": 0,
              "ticks": ""
             }
            },
            "type": "parcoords"
           }
          ],
          "pie": [
           {
            "automargin": true,
            "type": "pie"
           }
          ],
          "scatter": [
           {
            "fillpattern": {
             "fillmode": "overlay",
             "size": 10,
             "solidity": 0.2
            },
            "type": "scatter"
           }
          ],
          "scatter3d": [
           {
            "line": {
             "colorbar": {
              "outlinewidth": 0,
              "ticks": ""
             }
            },
            "marker": {
             "colorbar": {
              "outlinewidth": 0,
              "ticks": ""
             }
            },
            "type": "scatter3d"
           }
          ],
          "scattercarpet": [
           {
            "marker": {
             "colorbar": {
              "outlinewidth": 0,
              "ticks": ""
             }
            },
            "type": "scattercarpet"
           }
          ],
          "scattergeo": [
           {
            "marker": {
             "colorbar": {
              "outlinewidth": 0,
              "ticks": ""
             }
            },
            "type": "scattergeo"
           }
          ],
          "scattergl": [
           {
            "marker": {
             "colorbar": {
              "outlinewidth": 0,
              "ticks": ""
             }
            },
            "type": "scattergl"
           }
          ],
          "scattermapbox": [
           {
            "marker": {
             "colorbar": {
              "outlinewidth": 0,
              "ticks": ""
             }
            },
            "type": "scattermapbox"
           }
          ],
          "scatterpolar": [
           {
            "marker": {
             "colorbar": {
              "outlinewidth": 0,
              "ticks": ""
             }
            },
            "type": "scatterpolar"
           }
          ],
          "scatterpolargl": [
           {
            "marker": {
             "colorbar": {
              "outlinewidth": 0,
              "ticks": ""
             }
            },
            "type": "scatterpolargl"
           }
          ],
          "scatterternary": [
           {
            "marker": {
             "colorbar": {
              "outlinewidth": 0,
              "ticks": ""
             }
            },
            "type": "scatterternary"
           }
          ],
          "surface": [
           {
            "colorbar": {
             "outlinewidth": 0,
             "ticks": ""
            },
            "colorscale": [
             [
              0,
              "#0d0887"
             ],
             [
              0.1111111111111111,
              "#46039f"
             ],
             [
              0.2222222222222222,
              "#7201a8"
             ],
             [
              0.3333333333333333,
              "#9c179e"
             ],
             [
              0.4444444444444444,
              "#bd3786"
             ],
             [
              0.5555555555555556,
              "#d8576b"
             ],
             [
              0.6666666666666666,
              "#ed7953"
             ],
             [
              0.7777777777777778,
              "#fb9f3a"
             ],
             [
              0.8888888888888888,
              "#fdca26"
             ],
             [
              1,
              "#f0f921"
             ]
            ],
            "type": "surface"
           }
          ],
          "table": [
           {
            "cells": {
             "fill": {
              "color": "#EBF0F8"
             },
             "line": {
              "color": "white"
             }
            },
            "header": {
             "fill": {
              "color": "#C8D4E3"
             },
             "line": {
              "color": "white"
             }
            },
            "type": "table"
           }
          ]
         },
         "layout": {
          "annotationdefaults": {
           "arrowcolor": "#2a3f5f",
           "arrowhead": 0,
           "arrowwidth": 1
          },
          "autotypenumbers": "strict",
          "coloraxis": {
           "colorbar": {
            "outlinewidth": 0,
            "ticks": ""
           }
          },
          "colorscale": {
           "diverging": [
            [
             0,
             "#8e0152"
            ],
            [
             0.1,
             "#c51b7d"
            ],
            [
             0.2,
             "#de77ae"
            ],
            [
             0.3,
             "#f1b6da"
            ],
            [
             0.4,
             "#fde0ef"
            ],
            [
             0.5,
             "#f7f7f7"
            ],
            [
             0.6,
             "#e6f5d0"
            ],
            [
             0.7,
             "#b8e186"
            ],
            [
             0.8,
             "#7fbc41"
            ],
            [
             0.9,
             "#4d9221"
            ],
            [
             1,
             "#276419"
            ]
           ],
           "sequential": [
            [
             0,
             "#0d0887"
            ],
            [
             0.1111111111111111,
             "#46039f"
            ],
            [
             0.2222222222222222,
             "#7201a8"
            ],
            [
             0.3333333333333333,
             "#9c179e"
            ],
            [
             0.4444444444444444,
             "#bd3786"
            ],
            [
             0.5555555555555556,
             "#d8576b"
            ],
            [
             0.6666666666666666,
             "#ed7953"
            ],
            [
             0.7777777777777778,
             "#fb9f3a"
            ],
            [
             0.8888888888888888,
             "#fdca26"
            ],
            [
             1,
             "#f0f921"
            ]
           ],
           "sequentialminus": [
            [
             0,
             "#0d0887"
            ],
            [
             0.1111111111111111,
             "#46039f"
            ],
            [
             0.2222222222222222,
             "#7201a8"
            ],
            [
             0.3333333333333333,
             "#9c179e"
            ],
            [
             0.4444444444444444,
             "#bd3786"
            ],
            [
             0.5555555555555556,
             "#d8576b"
            ],
            [
             0.6666666666666666,
             "#ed7953"
            ],
            [
             0.7777777777777778,
             "#fb9f3a"
            ],
            [
             0.8888888888888888,
             "#fdca26"
            ],
            [
             1,
             "#f0f921"
            ]
           ]
          },
          "colorway": [
           "#636efa",
           "#EF553B",
           "#00cc96",
           "#ab63fa",
           "#FFA15A",
           "#19d3f3",
           "#FF6692",
           "#B6E880",
           "#FF97FF",
           "#FECB52"
          ],
          "font": {
           "color": "#2a3f5f"
          },
          "geo": {
           "bgcolor": "white",
           "lakecolor": "white",
           "landcolor": "#E5ECF6",
           "showlakes": true,
           "showland": true,
           "subunitcolor": "white"
          },
          "hoverlabel": {
           "align": "left"
          },
          "hovermode": "closest",
          "mapbox": {
           "style": "light"
          },
          "paper_bgcolor": "white",
          "plot_bgcolor": "#E5ECF6",
          "polar": {
           "angularaxis": {
            "gridcolor": "white",
            "linecolor": "white",
            "ticks": ""
           },
           "bgcolor": "#E5ECF6",
           "radialaxis": {
            "gridcolor": "white",
            "linecolor": "white",
            "ticks": ""
           }
          },
          "scene": {
           "xaxis": {
            "backgroundcolor": "#E5ECF6",
            "gridcolor": "white",
            "gridwidth": 2,
            "linecolor": "white",
            "showbackground": true,
            "ticks": "",
            "zerolinecolor": "white"
           },
           "yaxis": {
            "backgroundcolor": "#E5ECF6",
            "gridcolor": "white",
            "gridwidth": 2,
            "linecolor": "white",
            "showbackground": true,
            "ticks": "",
            "zerolinecolor": "white"
           },
           "zaxis": {
            "backgroundcolor": "#E5ECF6",
            "gridcolor": "white",
            "gridwidth": 2,
            "linecolor": "white",
            "showbackground": true,
            "ticks": "",
            "zerolinecolor": "white"
           }
          },
          "shapedefaults": {
           "line": {
            "color": "#2a3f5f"
           }
          },
          "ternary": {
           "aaxis": {
            "gridcolor": "white",
            "linecolor": "white",
            "ticks": ""
           },
           "baxis": {
            "gridcolor": "white",
            "linecolor": "white",
            "ticks": ""
           },
           "bgcolor": "#E5ECF6",
           "caxis": {
            "gridcolor": "white",
            "linecolor": "white",
            "ticks": ""
           }
          },
          "title": {
           "x": 0.05
          },
          "xaxis": {
           "automargin": true,
           "gridcolor": "white",
           "linecolor": "white",
           "ticks": "",
           "title": {
            "standoff": 15
           },
           "zerolinecolor": "white",
           "zerolinewidth": 2
          },
          "yaxis": {
           "automargin": true,
           "gridcolor": "white",
           "linecolor": "white",
           "ticks": "",
           "title": {
            "standoff": 15
           },
           "zerolinecolor": "white",
           "zerolinewidth": 2
          }
         }
        },
        "xaxis": {
         "anchor": "y",
         "domain": [
          0,
          1
         ],
         "title": {
          "text": "Category"
         }
        },
        "yaxis": {
         "anchor": "x",
         "domain": [
          0,
          1
         ],
         "title": {
          "text": "Debit Amount"
         }
        }
       }
      }
     },
     "metadata": {},
     "output_type": "display_data"
    }
   ],
   "source": [
    "px.box(transaction_history, x=\"Category\", y=\"Debit Amount\")"
   ]
  }
 ],
 "metadata": {
  "kernelspec": {
   "display_name": "env",
   "language": "python",
   "name": "python3"
  },
  "language_info": {
   "codemirror_mode": {
    "name": "ipython",
    "version": 3
   },
   "file_extension": ".py",
   "mimetype": "text/x-python",
   "name": "python",
   "nbconvert_exporter": "python",
   "pygments_lexer": "ipython3",
   "version": "3.11.9"
  }
 },
 "nbformat": 4,
 "nbformat_minor": 2
}
