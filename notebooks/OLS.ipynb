{
 "cells": [
  {
   "cell_type": "code",
   "execution_count": 253,
   "metadata": {},
   "outputs": [
    {
     "data": {
      "text/html": [
       "<div>\n",
       "<style scoped>\n",
       "    .dataframe tbody tr th:only-of-type {\n",
       "        vertical-align: middle;\n",
       "    }\n",
       "\n",
       "    .dataframe tbody tr th {\n",
       "        vertical-align: top;\n",
       "    }\n",
       "\n",
       "    .dataframe thead th {\n",
       "        text-align: right;\n",
       "    }\n",
       "</style>\n",
       "<table border=\"1\" class=\"dataframe\">\n",
       "  <thead>\n",
       "    <tr style=\"text-align: right;\">\n",
       "      <th></th>\n",
       "      <th>Transaction Date</th>\n",
       "      <th>Reference</th>\n",
       "      <th>Debit Amount</th>\n",
       "      <th>Credit Amount</th>\n",
       "      <th>Transaction Ref1</th>\n",
       "      <th>Transaction Ref2</th>\n",
       "      <th>Transaction Ref3</th>\n",
       "      <th>Unnamed: 7</th>\n",
       "      <th>Date</th>\n",
       "      <th>Month</th>\n",
       "      <th>Vendor</th>\n",
       "    </tr>\n",
       "  </thead>\n",
       "  <tbody>\n",
       "    <tr>\n",
       "      <th>0</th>\n",
       "      <td>2024-12-23</td>\n",
       "      <td>ICT</td>\n",
       "      <td>4.60</td>\n",
       "      <td>NaN</td>\n",
       "      <td>OTHR Na</td>\n",
       "      <td>PayNow Transfer 5114586</td>\n",
       "      <td>To: AL HIRA PTE. LTD.</td>\n",
       "      <td>NaN</td>\n",
       "      <td>Dec 23</td>\n",
       "      <td>12 Dec</td>\n",
       "      <td>OTHR Na PayNow Transfer 5114586 To: AL HIRA PT...</td>\n",
       "    </tr>\n",
       "    <tr>\n",
       "      <th>1</th>\n",
       "      <td>2024-12-21</td>\n",
       "      <td>ICT</td>\n",
       "      <td>500.00</td>\n",
       "      <td>NaN</td>\n",
       "      <td>OTHR PayNow Transfer</td>\n",
       "      <td>PayNow Transfer 8920040</td>\n",
       "      <td>To: CATALAN KWYNNZIE CHAVEZ</td>\n",
       "      <td>NaN</td>\n",
       "      <td>Dec 21</td>\n",
       "      <td>12 Dec</td>\n",
       "      <td>OTHR PayNow Transfer PayNow Transfer 8920040 T...</td>\n",
       "    </tr>\n",
       "    <tr>\n",
       "      <th>2</th>\n",
       "      <td>2024-12-21</td>\n",
       "      <td>ICT</td>\n",
       "      <td>NaN</td>\n",
       "      <td>485.0</td>\n",
       "      <td>OTHR OTHR</td>\n",
       "      <td>Incoming PayNow Ref 1590093</td>\n",
       "      <td>From: CATALAN KWYNNZIE CHAVEZ</td>\n",
       "      <td>NaN</td>\n",
       "      <td>Dec 21</td>\n",
       "      <td>12 Dec</td>\n",
       "      <td>OTHR OTHR Incoming PayNow Ref 1590093 From: CA...</td>\n",
       "    </tr>\n",
       "    <tr>\n",
       "      <th>3</th>\n",
       "      <td>2024-12-21</td>\n",
       "      <td>UMC-S</td>\n",
       "      <td>5.76</td>\n",
       "      <td>NaN</td>\n",
       "      <td></td>\n",
       "      <td>SHENGSIONG@417FERNVALE SI NG 19DEC</td>\n",
       "      <td>5264-7110-0390-7302</td>\n",
       "      <td>NaN</td>\n",
       "      <td>Dec 21</td>\n",
       "      <td>12 Dec</td>\n",
       "      <td>SHENGSIONG@417FERNVALE SI NG 19DEC 5264-7110-...</td>\n",
       "    </tr>\n",
       "    <tr>\n",
       "      <th>4</th>\n",
       "      <td>2024-12-21</td>\n",
       "      <td>UMC-S</td>\n",
       "      <td>15.00</td>\n",
       "      <td>NaN</td>\n",
       "      <td></td>\n",
       "      <td>KOPITIAM @VIVO         SI NG 19DEC</td>\n",
       "      <td>5264-7110-0390-7302</td>\n",
       "      <td>NaN</td>\n",
       "      <td>Dec 21</td>\n",
       "      <td>12 Dec</td>\n",
       "      <td>KOPITIAM @VIVO         SI NG 19DEC 5264-7110-...</td>\n",
       "    </tr>\n",
       "    <tr>\n",
       "      <th>...</th>\n",
       "      <td>...</td>\n",
       "      <td>...</td>\n",
       "      <td>...</td>\n",
       "      <td>...</td>\n",
       "      <td>...</td>\n",
       "      <td>...</td>\n",
       "      <td>...</td>\n",
       "      <td>...</td>\n",
       "      <td>...</td>\n",
       "      <td>...</td>\n",
       "      <td>...</td>\n",
       "    </tr>\n",
       "    <tr>\n",
       "      <th>126</th>\n",
       "      <td>2024-06-28</td>\n",
       "      <td>ICT</td>\n",
       "      <td>40.00</td>\n",
       "      <td>NaN</td>\n",
       "      <td>PayNow Transfer 9916061</td>\n",
       "      <td>To: SAMUEL SOON</td>\n",
       "      <td>OTHR PayNow Transfer</td>\n",
       "      <td>NaN</td>\n",
       "      <td>Jun 28</td>\n",
       "      <td>06 Jun</td>\n",
       "      <td>PayNow Transfer 9916061 To: SAMUEL SOON OTHR P...</td>\n",
       "    </tr>\n",
       "    <tr>\n",
       "      <th>127</th>\n",
       "      <td>2024-06-27</td>\n",
       "      <td>UMC-S</td>\n",
       "      <td>26.40</td>\n",
       "      <td>NaN</td>\n",
       "      <td>7-ELEVEN-COMPASS ONE   SI NG 25JUN</td>\n",
       "      <td>5264-7110-1009-8095</td>\n",
       "      <td></td>\n",
       "      <td>NaN</td>\n",
       "      <td>Jun 27</td>\n",
       "      <td>06 Jun</td>\n",
       "      <td>7-ELEVEN-COMPASS ONE   SI NG 25JUN 5264-7110-1...</td>\n",
       "    </tr>\n",
       "    <tr>\n",
       "      <th>128</th>\n",
       "      <td>2024-06-27</td>\n",
       "      <td>UMC-S</td>\n",
       "      <td>3.55</td>\n",
       "      <td>NaN</td>\n",
       "      <td>GUARDIAN - COMPASS ONE SI NG 25JUN</td>\n",
       "      <td>5264-7110-1009-8095</td>\n",
       "      <td></td>\n",
       "      <td>NaN</td>\n",
       "      <td>Jun 27</td>\n",
       "      <td>06 Jun</td>\n",
       "      <td>GUARDIAN - COMPASS ONE SI NG 25JUN 5264-7110-1...</td>\n",
       "    </tr>\n",
       "    <tr>\n",
       "      <th>129</th>\n",
       "      <td>2024-06-27</td>\n",
       "      <td>UMC-S</td>\n",
       "      <td>17.30</td>\n",
       "      <td>NaN</td>\n",
       "      <td>SENGKANG POLYCLINIC    SI NG 25JUN</td>\n",
       "      <td>5264-7110-1009-8095</td>\n",
       "      <td></td>\n",
       "      <td>NaN</td>\n",
       "      <td>Jun 27</td>\n",
       "      <td>06 Jun</td>\n",
       "      <td>SENGKANG POLYCLINIC    SI NG 25JUN 5264-7110-1...</td>\n",
       "    </tr>\n",
       "    <tr>\n",
       "      <th>130</th>\n",
       "      <td>2024-06-27</td>\n",
       "      <td>UMC-S</td>\n",
       "      <td>13.20</td>\n",
       "      <td>NaN</td>\n",
       "      <td>SAAP SAAP THAI - FUNAN SI NG 24JUN</td>\n",
       "      <td>5264-7110-1009-8095</td>\n",
       "      <td></td>\n",
       "      <td>NaN</td>\n",
       "      <td>Jun 27</td>\n",
       "      <td>06 Jun</td>\n",
       "      <td>SAAP SAAP THAI - FUNAN SI NG 24JUN 5264-7110-1...</td>\n",
       "    </tr>\n",
       "  </tbody>\n",
       "</table>\n",
       "<p>336 rows × 11 columns</p>\n",
       "</div>"
      ],
      "text/plain": [
       "    Transaction Date Reference  Debit Amount  Credit Amount  \\\n",
       "0         2024-12-23       ICT          4.60            NaN   \n",
       "1         2024-12-21       ICT        500.00            NaN   \n",
       "2         2024-12-21       ICT           NaN          485.0   \n",
       "3         2024-12-21     UMC-S          5.76            NaN   \n",
       "4         2024-12-21     UMC-S         15.00            NaN   \n",
       "..               ...       ...           ...            ...   \n",
       "126       2024-06-28       ICT         40.00            NaN   \n",
       "127       2024-06-27     UMC-S         26.40            NaN   \n",
       "128       2024-06-27     UMC-S          3.55            NaN   \n",
       "129       2024-06-27     UMC-S         17.30            NaN   \n",
       "130       2024-06-27     UMC-S         13.20            NaN   \n",
       "\n",
       "                       Transaction Ref1                    Transaction Ref2  \\\n",
       "0                               OTHR Na             PayNow Transfer 5114586   \n",
       "1                  OTHR PayNow Transfer             PayNow Transfer 8920040   \n",
       "2                             OTHR OTHR         Incoming PayNow Ref 1590093   \n",
       "3                                        SHENGSIONG@417FERNVALE SI NG 19DEC   \n",
       "4                                        KOPITIAM @VIVO         SI NG 19DEC   \n",
       "..                                  ...                                 ...   \n",
       "126             PayNow Transfer 9916061                     To: SAMUEL SOON   \n",
       "127  7-ELEVEN-COMPASS ONE   SI NG 25JUN                 5264-7110-1009-8095   \n",
       "128  GUARDIAN - COMPASS ONE SI NG 25JUN                 5264-7110-1009-8095   \n",
       "129  SENGKANG POLYCLINIC    SI NG 25JUN                 5264-7110-1009-8095   \n",
       "130  SAAP SAAP THAI - FUNAN SI NG 24JUN                 5264-7110-1009-8095   \n",
       "\n",
       "                  Transaction Ref3  Unnamed: 7    Date   Month  \\\n",
       "0            To: AL HIRA PTE. LTD.         NaN  Dec 23  12 Dec   \n",
       "1      To: CATALAN KWYNNZIE CHAVEZ         NaN  Dec 21  12 Dec   \n",
       "2    From: CATALAN KWYNNZIE CHAVEZ         NaN  Dec 21  12 Dec   \n",
       "3              5264-7110-0390-7302         NaN  Dec 21  12 Dec   \n",
       "4              5264-7110-0390-7302         NaN  Dec 21  12 Dec   \n",
       "..                             ...         ...     ...     ...   \n",
       "126           OTHR PayNow Transfer         NaN  Jun 28  06 Jun   \n",
       "127                                        NaN  Jun 27  06 Jun   \n",
       "128                                        NaN  Jun 27  06 Jun   \n",
       "129                                        NaN  Jun 27  06 Jun   \n",
       "130                                        NaN  Jun 27  06 Jun   \n",
       "\n",
       "                                                Vendor  \n",
       "0    OTHR Na PayNow Transfer 5114586 To: AL HIRA PT...  \n",
       "1    OTHR PayNow Transfer PayNow Transfer 8920040 T...  \n",
       "2    OTHR OTHR Incoming PayNow Ref 1590093 From: CA...  \n",
       "3     SHENGSIONG@417FERNVALE SI NG 19DEC 5264-7110-...  \n",
       "4     KOPITIAM @VIVO         SI NG 19DEC 5264-7110-...  \n",
       "..                                                 ...  \n",
       "126  PayNow Transfer 9916061 To: SAMUEL SOON OTHR P...  \n",
       "127  7-ELEVEN-COMPASS ONE   SI NG 25JUN 5264-7110-1...  \n",
       "128  GUARDIAN - COMPASS ONE SI NG 25JUN 5264-7110-1...  \n",
       "129  SENGKANG POLYCLINIC    SI NG 25JUN 5264-7110-1...  \n",
       "130  SAAP SAAP THAI - FUNAN SI NG 24JUN 5264-7110-1...  \n",
       "\n",
       "[336 rows x 11 columns]"
      ]
     },
     "execution_count": 253,
     "metadata": {},
     "output_type": "execute_result"
    }
   ],
   "source": [
    "import pandas as pd\n",
    "import numpy as np\n",
    "import re\n",
    "import seaborn as sns\n",
    "import matplotlib.pyplot as plt\n",
    "import plotly.graph_objects as go\n",
    "from plotly.subplots import make_subplots\n",
    "\n",
    "transaction_history_1 = pd.read_csv(\"../transaction_history_csv/sep-dec.csv\")\n",
    "transaction_history_2 = pd.read_csv(\"../transaction_history_csv/jun-sep.csv\")\n",
    "transaction_history = pd.concat([transaction_history_1, transaction_history_2])\n",
    "\n",
    "# transaction_history = transaction_history[transaction_history[\"Reference\"] == \"UMC-S\"]\n",
    "transaction_history[\"Transaction Date\"] = pd.to_datetime(transaction_history[\"Transaction Date\"])\n",
    "transaction_history[\"Debit Amount\"] = transaction_history[\"Debit Amount\"].replace({' ': np.nan})\n",
    "transaction_history[\"Debit Amount\"] = transaction_history[\"Debit Amount\"].astype(float)\n",
    "transaction_history[\"Credit Amount\"] = transaction_history[\"Credit Amount\"].replace({' ': np.nan})\n",
    "transaction_history[\"Credit Amount\"] = transaction_history[\"Credit Amount\"].astype(float)\n",
    "transaction_history[\"Date\"] = transaction_history[\"Transaction Date\"].dt.strftime('%b %d')\n",
    "transaction_history[\"Month\"] = transaction_history[\"Transaction Date\"].dt.strftime('%m %b')\n",
    "transaction_history[\"Transaction Ref1\"] = transaction_history[\"Transaction Ref1\"].fillna(\"\")\n",
    "transaction_history[\"Transaction Ref2\"] = transaction_history[\"Transaction Ref2\"].fillna(\"\")\n",
    "transaction_history[\"Transaction Ref3\"] = transaction_history[\"Transaction Ref3\"].fillna(\"\")\n",
    "transaction_history[\"Vendor\"] = transaction_history[\"Transaction Ref1\"] + ' ' + transaction_history[\"Transaction Ref2\"] + ' ' + transaction_history[\"Transaction Ref3\"]\n",
    "transaction_history = transaction_history[transaction_history[\"Reference\"] != \"ITR\"]\n",
    "\n",
    "output_directory = \"../transaction_history_csv/out.csv\"\n",
    "\n",
    "transaction_history"
   ]
  },
  {
   "cell_type": "code",
   "execution_count": 254,
   "metadata": {},
   "outputs": [
    {
     "data": {
      "text/plain": [
       "Category\n",
       "Shopping     139\n",
       "F&B           81\n",
       "Transport     59\n",
       "Transfers     49\n",
       "Salary         7\n",
       "Medical        1\n",
       "Name: count, dtype: int64"
      ]
     },
     "execution_count": 254,
     "metadata": {},
     "output_type": "execute_result"
    }
   ],
   "source": [
    "def remove_special_characters(string):\n",
    "    return \"\".join(e for e in string.lower() if e.isalnum())\n",
    "\n",
    "def check_if_string_in_list(original_string, reference_list):\n",
    "    if not isinstance(original_string, str):\n",
    "        return False\n",
    "    original_list = [remove_special_characters(s) for s in re.split(\"\\\\s+|\\.|\\@|\\*|\\/|\\_|\\-\", original_string)]\n",
    "    return any([x in reference_list for x in original_list])\n",
    "\n",
    "def categorize_vendors(original_string, reference_dict):\n",
    "    if not isinstance(original_string, str):\n",
    "        return \"Others\"\n",
    "    original_list = [remove_special_characters(s) for s in re.split(\"\\\\s+|\\.|\\@|\\*|\\/|\\_|\\-\", original_string)]\n",
    "    for x in original_list:\n",
    "        for key, value in reference_dict.items():\n",
    "            if x in value:\n",
    "                return key\n",
    "    return \"Shopping\"\n",
    "\n",
    "# F&B vendors list\n",
    "with open(\"../restaurants.txt\") as restaurants:\n",
    "    lines = restaurants.readlines()\n",
    "\n",
    "    restaurant_list = []\n",
    "    for line in lines:\n",
    "        line = [remove_special_characters(e) for e in line.split(\", \")]\n",
    "        restaurant_list.extend(line)\n",
    "\n",
    "    restaurant_list = list(set(restaurant_list))\n",
    "\n",
    "# Transport vendors list\n",
    "# Transport, transfers, salary, and medical lists\n",
    "transport_list = [\"bus\", \"grab\"]\n",
    "# transfer_list = [\"paynow\", \"transfer\", \"ref\", \"bank\", \"revolut\"]\n",
    "transfer_list = [\"kwynnzie\"]\n",
    "salary_list = [\"mindef\", \"saf\", \"gov\"]\n",
    "medical_list = [\"polyclinic\", \"clinic\"]\n",
    "\n",
    "# Vendor group dictionary\n",
    "vendor_groups = {\n",
    "    \"F&B\": restaurant_list,\n",
    "    \"Transport\": transport_list,\n",
    "    \"Transfers\": transfer_list,\n",
    "    \"Salary\": salary_list,\n",
    "    \"Medical\": medical_list\n",
    "}\n",
    "\n",
    "# Transportation vendors list\n",
    "transaction_history[\"Category\"] = transaction_history[\"Vendor\"].apply(lambda x: categorize_vendors(x, vendor_groups))\n",
    "output_directory = \"../transaction_history_csv/out.csv\"\n",
    "transaction_history[\"Category\"].value_counts()"
   ]
  },
  {
   "cell_type": "code",
   "execution_count": 255,
   "metadata": {},
   "outputs": [],
   "source": [
    "def get_price_range(df, upper, lower=-np.inf):\n",
    "    return df[(df[\"Debit Amount\"] < upper) & (df[\"Debit Amount\"] > lower)] \n",
    "\n",
    "def get_category(df, category):\n",
    "    return df[df[\"Category\"]==category]\n",
    "\n",
    "def get_shopping_and_fb_categories(df):\n",
    "    return df[(df[\"Debit Amount\"].notna()) & (df[\"Category\"].isin([\"Shopping\", \"F&B\"]))]\n",
    "\n",
    "def output_csv(df, directory=output_directory):\n",
    "    df.to_csv(directory, index=False)\n",
    "\n",
    "def plot_catplot(df):\n",
    "    df = get_shopping_and_fb_categories(df)\n",
    "\n",
    "    month_axis_ordering = sorted(transaction_history[\"Month\"].unique())\n",
    "    sns.catplot(data=df, x=\"Month\", y=\"Debit Amount\", order=month_axis_ordering)\n",
    "\n",
    "def plot_debit_amount(df):\n",
    "    df[[\"Transaction Date\", \"Debit Amount\"]].set_index(\"Transaction Date\").plot.line()\n",
    "\n",
    "def plot_monthly_debit_spending(df):\n",
    "    df = df[df[\"Debit Amount\"].notna()]\n",
    "    ax = df[[\"Month\", \"Debit Amount\"]].groupby(\"Month\").sum().plot.bar()\n",
    "    for p in ax.patches:\n",
    "        ax.annotate(str(p.get_height()), (p.get_x() * 1.005, p.get_height() * 1.005))\n",
    "\n",
    "def plot_spending_histogram(df, bins_count=100):\n",
    "    df[\"Debit Amount\"].plot.hist(bins=bins_count)\n",
    "\n",
    "def plot_number_of_transactions_monthly(df):\n",
    "    df = df[df[\"Debit Amount\"].notna()]\n",
    "    ax = df[[\"Month\", \"Debit Amount\"]].groupby(\"Month\").count().plot.bar()\n",
    "    for p in ax.patches:\n",
    "        ax.annotate(str(p.get_height()), (p.get_x() * 1.005, p.get_height() * 1.005))"
   ]
  },
  {
   "cell_type": "code",
   "execution_count": 256,
   "metadata": {},
   "outputs": [
    {
     "data": {
      "text/html": [
       "<div>\n",
       "<style scoped>\n",
       "    .dataframe tbody tr th:only-of-type {\n",
       "        vertical-align: middle;\n",
       "    }\n",
       "\n",
       "    .dataframe tbody tr th {\n",
       "        vertical-align: top;\n",
       "    }\n",
       "\n",
       "    .dataframe thead th {\n",
       "        text-align: right;\n",
       "    }\n",
       "</style>\n",
       "<table border=\"1\" class=\"dataframe\">\n",
       "  <thead>\n",
       "    <tr style=\"text-align: right;\">\n",
       "      <th></th>\n",
       "      <th></th>\n",
       "      <th>mean</th>\n",
       "      <th>median</th>\n",
       "      <th>sum</th>\n",
       "      <th>count</th>\n",
       "    </tr>\n",
       "    <tr>\n",
       "      <th>Month</th>\n",
       "      <th>Category</th>\n",
       "      <th></th>\n",
       "      <th></th>\n",
       "      <th></th>\n",
       "      <th></th>\n",
       "    </tr>\n",
       "  </thead>\n",
       "  <tbody>\n",
       "    <tr>\n",
       "      <th rowspan=\"4\" valign=\"top\">06 Jun</th>\n",
       "      <th>F&amp;B</th>\n",
       "      <td>20.987500</td>\n",
       "      <td>12.275</td>\n",
       "      <td>83.95</td>\n",
       "      <td>4</td>\n",
       "    </tr>\n",
       "    <tr>\n",
       "      <th>Medical</th>\n",
       "      <td>17.300000</td>\n",
       "      <td>17.300</td>\n",
       "      <td>17.30</td>\n",
       "      <td>1</td>\n",
       "    </tr>\n",
       "    <tr>\n",
       "      <th>Shopping</th>\n",
       "      <td>13.112500</td>\n",
       "      <td>6.775</td>\n",
       "      <td>104.90</td>\n",
       "      <td>8</td>\n",
       "    </tr>\n",
       "    <tr>\n",
       "      <th>Transport</th>\n",
       "      <td>6.640000</td>\n",
       "      <td>6.640</td>\n",
       "      <td>6.64</td>\n",
       "      <td>1</td>\n",
       "    </tr>\n",
       "    <tr>\n",
       "      <th rowspan=\"4\" valign=\"top\">07 Jul</th>\n",
       "      <th>F&amp;B</th>\n",
       "      <td>15.336250</td>\n",
       "      <td>13.150</td>\n",
       "      <td>122.69</td>\n",
       "      <td>8</td>\n",
       "    </tr>\n",
       "    <tr>\n",
       "      <th>Shopping</th>\n",
       "      <td>17.468889</td>\n",
       "      <td>5.200</td>\n",
       "      <td>157.22</td>\n",
       "      <td>9</td>\n",
       "    </tr>\n",
       "    <tr>\n",
       "      <th>Transfers</th>\n",
       "      <td>6.000000</td>\n",
       "      <td>6.000</td>\n",
       "      <td>12.00</td>\n",
       "      <td>2</td>\n",
       "    </tr>\n",
       "    <tr>\n",
       "      <th>Transport</th>\n",
       "      <td>12.630000</td>\n",
       "      <td>12.630</td>\n",
       "      <td>25.26</td>\n",
       "      <td>2</td>\n",
       "    </tr>\n",
       "    <tr>\n",
       "      <th rowspan=\"4\" valign=\"top\">08 Aug</th>\n",
       "      <th>F&amp;B</th>\n",
       "      <td>17.714286</td>\n",
       "      <td>9.000</td>\n",
       "      <td>124.00</td>\n",
       "      <td>7</td>\n",
       "    </tr>\n",
       "    <tr>\n",
       "      <th>Shopping</th>\n",
       "      <td>22.250000</td>\n",
       "      <td>17.200</td>\n",
       "      <td>400.50</td>\n",
       "      <td>18</td>\n",
       "    </tr>\n",
       "    <tr>\n",
       "      <th>Transfers</th>\n",
       "      <td>28.004000</td>\n",
       "      <td>20.000</td>\n",
       "      <td>140.02</td>\n",
       "      <td>5</td>\n",
       "    </tr>\n",
       "    <tr>\n",
       "      <th>Transport</th>\n",
       "      <td>12.944000</td>\n",
       "      <td>11.540</td>\n",
       "      <td>64.72</td>\n",
       "      <td>5</td>\n",
       "    </tr>\n",
       "    <tr>\n",
       "      <th rowspan=\"4\" valign=\"top\">09 Sep</th>\n",
       "      <th>F&amp;B</th>\n",
       "      <td>15.056875</td>\n",
       "      <td>14.350</td>\n",
       "      <td>240.91</td>\n",
       "      <td>16</td>\n",
       "    </tr>\n",
       "    <tr>\n",
       "      <th>Shopping</th>\n",
       "      <td>22.748235</td>\n",
       "      <td>15.300</td>\n",
       "      <td>386.72</td>\n",
       "      <td>17</td>\n",
       "    </tr>\n",
       "    <tr>\n",
       "      <th>Transfers</th>\n",
       "      <td>35.000000</td>\n",
       "      <td>35.000</td>\n",
       "      <td>70.00</td>\n",
       "      <td>2</td>\n",
       "    </tr>\n",
       "    <tr>\n",
       "      <th>Transport</th>\n",
       "      <td>10.221667</td>\n",
       "      <td>6.330</td>\n",
       "      <td>122.66</td>\n",
       "      <td>12</td>\n",
       "    </tr>\n",
       "    <tr>\n",
       "      <th rowspan=\"4\" valign=\"top\">10 Oct</th>\n",
       "      <th>F&amp;B</th>\n",
       "      <td>12.797333</td>\n",
       "      <td>8.150</td>\n",
       "      <td>191.96</td>\n",
       "      <td>15</td>\n",
       "    </tr>\n",
       "    <tr>\n",
       "      <th>Shopping</th>\n",
       "      <td>26.594444</td>\n",
       "      <td>18.850</td>\n",
       "      <td>478.70</td>\n",
       "      <td>18</td>\n",
       "    </tr>\n",
       "    <tr>\n",
       "      <th>Transfers</th>\n",
       "      <td>12.600000</td>\n",
       "      <td>5.000</td>\n",
       "      <td>63.00</td>\n",
       "      <td>5</td>\n",
       "    </tr>\n",
       "    <tr>\n",
       "      <th>Transport</th>\n",
       "      <td>11.865833</td>\n",
       "      <td>8.350</td>\n",
       "      <td>142.39</td>\n",
       "      <td>12</td>\n",
       "    </tr>\n",
       "    <tr>\n",
       "      <th rowspan=\"4\" valign=\"top\">11 Nov</th>\n",
       "      <th>F&amp;B</th>\n",
       "      <td>14.241154</td>\n",
       "      <td>9.300</td>\n",
       "      <td>370.27</td>\n",
       "      <td>26</td>\n",
       "    </tr>\n",
       "    <tr>\n",
       "      <th>Shopping</th>\n",
       "      <td>31.235000</td>\n",
       "      <td>18.005</td>\n",
       "      <td>937.05</td>\n",
       "      <td>30</td>\n",
       "    </tr>\n",
       "    <tr>\n",
       "      <th>Transfers</th>\n",
       "      <td>120.061538</td>\n",
       "      <td>50.000</td>\n",
       "      <td>1560.80</td>\n",
       "      <td>13</td>\n",
       "    </tr>\n",
       "    <tr>\n",
       "      <th>Transport</th>\n",
       "      <td>18.824375</td>\n",
       "      <td>16.320</td>\n",
       "      <td>301.19</td>\n",
       "      <td>16</td>\n",
       "    </tr>\n",
       "    <tr>\n",
       "      <th rowspan=\"4\" valign=\"top\">12 Dec</th>\n",
       "      <th>F&amp;B</th>\n",
       "      <td>10.160000</td>\n",
       "      <td>12.000</td>\n",
       "      <td>50.80</td>\n",
       "      <td>5</td>\n",
       "    </tr>\n",
       "    <tr>\n",
       "      <th>Shopping</th>\n",
       "      <td>13.200000</td>\n",
       "      <td>9.000</td>\n",
       "      <td>435.60</td>\n",
       "      <td>33</td>\n",
       "    </tr>\n",
       "    <tr>\n",
       "      <th>Transfers</th>\n",
       "      <td>300.000000</td>\n",
       "      <td>300.000</td>\n",
       "      <td>600.00</td>\n",
       "      <td>2</td>\n",
       "    </tr>\n",
       "    <tr>\n",
       "      <th>Transport</th>\n",
       "      <td>14.125455</td>\n",
       "      <td>16.190</td>\n",
       "      <td>155.38</td>\n",
       "      <td>11</td>\n",
       "    </tr>\n",
       "  </tbody>\n",
       "</table>\n",
       "</div>"
      ],
      "text/plain": [
       "                        mean   median      sum  count\n",
       "Month  Category                                      \n",
       "06 Jun F&B         20.987500   12.275    83.95      4\n",
       "       Medical     17.300000   17.300    17.30      1\n",
       "       Shopping    13.112500    6.775   104.90      8\n",
       "       Transport    6.640000    6.640     6.64      1\n",
       "07 Jul F&B         15.336250   13.150   122.69      8\n",
       "       Shopping    17.468889    5.200   157.22      9\n",
       "       Transfers    6.000000    6.000    12.00      2\n",
       "       Transport   12.630000   12.630    25.26      2\n",
       "08 Aug F&B         17.714286    9.000   124.00      7\n",
       "       Shopping    22.250000   17.200   400.50     18\n",
       "       Transfers   28.004000   20.000   140.02      5\n",
       "       Transport   12.944000   11.540    64.72      5\n",
       "09 Sep F&B         15.056875   14.350   240.91     16\n",
       "       Shopping    22.748235   15.300   386.72     17\n",
       "       Transfers   35.000000   35.000    70.00      2\n",
       "       Transport   10.221667    6.330   122.66     12\n",
       "10 Oct F&B         12.797333    8.150   191.96     15\n",
       "       Shopping    26.594444   18.850   478.70     18\n",
       "       Transfers   12.600000    5.000    63.00      5\n",
       "       Transport   11.865833    8.350   142.39     12\n",
       "11 Nov F&B         14.241154    9.300   370.27     26\n",
       "       Shopping    31.235000   18.005   937.05     30\n",
       "       Transfers  120.061538   50.000  1560.80     13\n",
       "       Transport   18.824375   16.320   301.19     16\n",
       "12 Dec F&B         10.160000   12.000    50.80      5\n",
       "       Shopping    13.200000    9.000   435.60     33\n",
       "       Transfers  300.000000  300.000   600.00      2\n",
       "       Transport   14.125455   16.190   155.38     11"
      ]
     },
     "execution_count": 256,
     "metadata": {},
     "output_type": "execute_result"
    }
   ],
   "source": [
    "matrix = transaction_history[transaction_history[\"Debit Amount\"].notna()]\n",
    "matrix = matrix[['Month', 'Category', 'Debit Amount']].groupby(['Month', \"Category\"]).agg(['mean', 'median', 'sum', 'count'])\n",
    "matrix.columns = matrix.columns.droplevel()\n",
    "matrix"
   ]
  },
  {
   "cell_type": "code",
   "execution_count": 257,
   "metadata": {},
   "outputs": [
    {
     "data": {
      "text/html": [
       "<div>\n",
       "<style scoped>\n",
       "    .dataframe tbody tr th:only-of-type {\n",
       "        vertical-align: middle;\n",
       "    }\n",
       "\n",
       "    .dataframe tbody tr th {\n",
       "        vertical-align: top;\n",
       "    }\n",
       "\n",
       "    .dataframe thead th {\n",
       "        text-align: right;\n",
       "    }\n",
       "</style>\n",
       "<table border=\"1\" class=\"dataframe\">\n",
       "  <thead>\n",
       "    <tr style=\"text-align: right;\">\n",
       "      <th>Category</th>\n",
       "      <th>F&amp;B</th>\n",
       "      <th>Shopping</th>\n",
       "      <th>Transfers</th>\n",
       "      <th>Transport</th>\n",
       "    </tr>\n",
       "    <tr>\n",
       "      <th>Month</th>\n",
       "      <th></th>\n",
       "      <th></th>\n",
       "      <th></th>\n",
       "      <th></th>\n",
       "    </tr>\n",
       "  </thead>\n",
       "  <tbody>\n",
       "    <tr>\n",
       "      <th>06 Jun</th>\n",
       "      <td>83.95</td>\n",
       "      <td>104.90</td>\n",
       "      <td>0.00</td>\n",
       "      <td>6.64</td>\n",
       "    </tr>\n",
       "    <tr>\n",
       "      <th>07 Jul</th>\n",
       "      <td>122.69</td>\n",
       "      <td>157.22</td>\n",
       "      <td>12.00</td>\n",
       "      <td>25.26</td>\n",
       "    </tr>\n",
       "    <tr>\n",
       "      <th>08 Aug</th>\n",
       "      <td>124.00</td>\n",
       "      <td>400.50</td>\n",
       "      <td>140.02</td>\n",
       "      <td>64.72</td>\n",
       "    </tr>\n",
       "    <tr>\n",
       "      <th>09 Sep</th>\n",
       "      <td>240.91</td>\n",
       "      <td>386.72</td>\n",
       "      <td>70.00</td>\n",
       "      <td>122.66</td>\n",
       "    </tr>\n",
       "    <tr>\n",
       "      <th>10 Oct</th>\n",
       "      <td>191.96</td>\n",
       "      <td>478.70</td>\n",
       "      <td>63.00</td>\n",
       "      <td>142.39</td>\n",
       "    </tr>\n",
       "    <tr>\n",
       "      <th>11 Nov</th>\n",
       "      <td>370.27</td>\n",
       "      <td>937.05</td>\n",
       "      <td>1560.80</td>\n",
       "      <td>301.19</td>\n",
       "    </tr>\n",
       "    <tr>\n",
       "      <th>12 Dec</th>\n",
       "      <td>50.80</td>\n",
       "      <td>435.60</td>\n",
       "      <td>600.00</td>\n",
       "      <td>155.38</td>\n",
       "    </tr>\n",
       "  </tbody>\n",
       "</table>\n",
       "</div>"
      ],
      "text/plain": [
       "Category     F&B  Shopping  Transfers  Transport\n",
       "Month                                           \n",
       "06 Jun     83.95    104.90       0.00       6.64\n",
       "07 Jul    122.69    157.22      12.00      25.26\n",
       "08 Aug    124.00    400.50     140.02      64.72\n",
       "09 Sep    240.91    386.72      70.00     122.66\n",
       "10 Oct    191.96    478.70      63.00     142.39\n",
       "11 Nov    370.27    937.05    1560.80     301.19\n",
       "12 Dec     50.80    435.60     600.00     155.38"
      ]
     },
     "execution_count": 257,
     "metadata": {},
     "output_type": "execute_result"
    }
   ],
   "source": [
    "matrix = matrix[\"sum\"].reset_index().pivot(index=\"Month\", columns=\"Category\", values=\"sum\").drop(\"Medical\", axis=1).fillna(0)\n",
    "cols = matrix.columns\n",
    "matrix"
   ]
  },
  {
   "cell_type": "code",
   "execution_count": 258,
   "metadata": {},
   "outputs": [
    {
     "data": {
      "text/html": [
       "<div>\n",
       "<style scoped>\n",
       "    .dataframe tbody tr th:only-of-type {\n",
       "        vertical-align: middle;\n",
       "    }\n",
       "\n",
       "    .dataframe tbody tr th {\n",
       "        vertical-align: top;\n",
       "    }\n",
       "\n",
       "    .dataframe thead th {\n",
       "        text-align: right;\n",
       "    }\n",
       "</style>\n",
       "<table border=\"1\" class=\"dataframe\">\n",
       "  <thead>\n",
       "    <tr style=\"text-align: right;\">\n",
       "      <th>Category</th>\n",
       "      <th>Month</th>\n",
       "      <th>F&amp;B</th>\n",
       "      <th>Shopping</th>\n",
       "      <th>Transfers</th>\n",
       "      <th>Transport</th>\n",
       "    </tr>\n",
       "  </thead>\n",
       "  <tbody>\n",
       "    <tr>\n",
       "      <th>0</th>\n",
       "      <td>06 Jun</td>\n",
       "      <td>0.429434</td>\n",
       "      <td>0.536600</td>\n",
       "      <td>0.000000</td>\n",
       "      <td>0.033966</td>\n",
       "    </tr>\n",
       "    <tr>\n",
       "      <th>1</th>\n",
       "      <td>07 Jul</td>\n",
       "      <td>0.386827</td>\n",
       "      <td>0.495696</td>\n",
       "      <td>0.037835</td>\n",
       "      <td>0.079642</td>\n",
       "    </tr>\n",
       "    <tr>\n",
       "      <th>2</th>\n",
       "      <td>08 Aug</td>\n",
       "      <td>0.170040</td>\n",
       "      <td>0.549202</td>\n",
       "      <td>0.192008</td>\n",
       "      <td>0.088750</td>\n",
       "    </tr>\n",
       "    <tr>\n",
       "      <th>3</th>\n",
       "      <td>09 Sep</td>\n",
       "      <td>0.293689</td>\n",
       "      <td>0.471443</td>\n",
       "      <td>0.085336</td>\n",
       "      <td>0.149532</td>\n",
       "    </tr>\n",
       "    <tr>\n",
       "      <th>4</th>\n",
       "      <td>10 Oct</td>\n",
       "      <td>0.219120</td>\n",
       "      <td>0.546430</td>\n",
       "      <td>0.071914</td>\n",
       "      <td>0.162536</td>\n",
       "    </tr>\n",
       "    <tr>\n",
       "      <th>5</th>\n",
       "      <td>11 Nov</td>\n",
       "      <td>0.116830</td>\n",
       "      <td>0.295664</td>\n",
       "      <td>0.492473</td>\n",
       "      <td>0.095033</td>\n",
       "    </tr>\n",
       "    <tr>\n",
       "      <th>6</th>\n",
       "      <td>12 Dec</td>\n",
       "      <td>0.040909</td>\n",
       "      <td>0.350787</td>\n",
       "      <td>0.483177</td>\n",
       "      <td>0.125127</td>\n",
       "    </tr>\n",
       "  </tbody>\n",
       "</table>\n",
       "</div>"
      ],
      "text/plain": [
       "Category   Month       F&B  Shopping  Transfers  Transport\n",
       "0         06 Jun  0.429434  0.536600   0.000000   0.033966\n",
       "1         07 Jul  0.386827  0.495696   0.037835   0.079642\n",
       "2         08 Aug  0.170040  0.549202   0.192008   0.088750\n",
       "3         09 Sep  0.293689  0.471443   0.085336   0.149532\n",
       "4         10 Oct  0.219120  0.546430   0.071914   0.162536\n",
       "5         11 Nov  0.116830  0.295664   0.492473   0.095033\n",
       "6         12 Dec  0.040909  0.350787   0.483177   0.125127"
      ]
     },
     "execution_count": 258,
     "metadata": {},
     "output_type": "execute_result"
    }
   ],
   "source": [
    "def normalize(arr):\n",
    "    return pd.Series([i/sum(arr) for i in arr])\n",
    "\n",
    "matrix1 = matrix.apply(lambda x: normalize(x), axis=1)\n",
    "matrix1.columns = cols\n",
    "matrix1 = matrix1.reset_index()\n",
    "matrix1"
   ]
  },
  {
   "cell_type": "code",
   "execution_count": 259,
   "metadata": {},
   "outputs": [],
   "source": [
    "df = matrix.reset_index()"
   ]
  },
  {
   "cell_type": "code",
   "execution_count": 260,
   "metadata": {},
   "outputs": [],
   "source": [
    "matrix1 = pd.melt(matrix1, value_vars=cols, id_vars=[\"Month\"])"
   ]
  },
  {
   "cell_type": "code",
   "execution_count": 261,
   "metadata": {},
   "outputs": [
    {
     "data": {
      "text/html": [
       "<div>\n",
       "<style scoped>\n",
       "    .dataframe tbody tr th:only-of-type {\n",
       "        vertical-align: middle;\n",
       "    }\n",
       "\n",
       "    .dataframe tbody tr th {\n",
       "        vertical-align: top;\n",
       "    }\n",
       "\n",
       "    .dataframe thead th {\n",
       "        text-align: right;\n",
       "    }\n",
       "</style>\n",
       "<table border=\"1\" class=\"dataframe\">\n",
       "  <thead>\n",
       "    <tr style=\"text-align: right;\">\n",
       "      <th></th>\n",
       "      <th>Month</th>\n",
       "      <th>Category</th>\n",
       "      <th>value</th>\n",
       "    </tr>\n",
       "  </thead>\n",
       "  <tbody>\n",
       "    <tr>\n",
       "      <th>0</th>\n",
       "      <td>06 Jun</td>\n",
       "      <td>F&amp;B</td>\n",
       "      <td>0.429434</td>\n",
       "    </tr>\n",
       "    <tr>\n",
       "      <th>1</th>\n",
       "      <td>07 Jul</td>\n",
       "      <td>F&amp;B</td>\n",
       "      <td>0.386827</td>\n",
       "    </tr>\n",
       "    <tr>\n",
       "      <th>2</th>\n",
       "      <td>08 Aug</td>\n",
       "      <td>F&amp;B</td>\n",
       "      <td>0.170040</td>\n",
       "    </tr>\n",
       "    <tr>\n",
       "      <th>3</th>\n",
       "      <td>09 Sep</td>\n",
       "      <td>F&amp;B</td>\n",
       "      <td>0.293689</td>\n",
       "    </tr>\n",
       "    <tr>\n",
       "      <th>4</th>\n",
       "      <td>10 Oct</td>\n",
       "      <td>F&amp;B</td>\n",
       "      <td>0.219120</td>\n",
       "    </tr>\n",
       "    <tr>\n",
       "      <th>5</th>\n",
       "      <td>11 Nov</td>\n",
       "      <td>F&amp;B</td>\n",
       "      <td>0.116830</td>\n",
       "    </tr>\n",
       "    <tr>\n",
       "      <th>6</th>\n",
       "      <td>12 Dec</td>\n",
       "      <td>F&amp;B</td>\n",
       "      <td>0.040909</td>\n",
       "    </tr>\n",
       "    <tr>\n",
       "      <th>7</th>\n",
       "      <td>06 Jun</td>\n",
       "      <td>Shopping</td>\n",
       "      <td>0.536600</td>\n",
       "    </tr>\n",
       "    <tr>\n",
       "      <th>8</th>\n",
       "      <td>07 Jul</td>\n",
       "      <td>Shopping</td>\n",
       "      <td>0.495696</td>\n",
       "    </tr>\n",
       "    <tr>\n",
       "      <th>9</th>\n",
       "      <td>08 Aug</td>\n",
       "      <td>Shopping</td>\n",
       "      <td>0.549202</td>\n",
       "    </tr>\n",
       "    <tr>\n",
       "      <th>10</th>\n",
       "      <td>09 Sep</td>\n",
       "      <td>Shopping</td>\n",
       "      <td>0.471443</td>\n",
       "    </tr>\n",
       "    <tr>\n",
       "      <th>11</th>\n",
       "      <td>10 Oct</td>\n",
       "      <td>Shopping</td>\n",
       "      <td>0.546430</td>\n",
       "    </tr>\n",
       "    <tr>\n",
       "      <th>12</th>\n",
       "      <td>11 Nov</td>\n",
       "      <td>Shopping</td>\n",
       "      <td>0.295664</td>\n",
       "    </tr>\n",
       "    <tr>\n",
       "      <th>13</th>\n",
       "      <td>12 Dec</td>\n",
       "      <td>Shopping</td>\n",
       "      <td>0.350787</td>\n",
       "    </tr>\n",
       "    <tr>\n",
       "      <th>14</th>\n",
       "      <td>06 Jun</td>\n",
       "      <td>Transfers</td>\n",
       "      <td>0.000000</td>\n",
       "    </tr>\n",
       "    <tr>\n",
       "      <th>15</th>\n",
       "      <td>07 Jul</td>\n",
       "      <td>Transfers</td>\n",
       "      <td>0.037835</td>\n",
       "    </tr>\n",
       "    <tr>\n",
       "      <th>16</th>\n",
       "      <td>08 Aug</td>\n",
       "      <td>Transfers</td>\n",
       "      <td>0.192008</td>\n",
       "    </tr>\n",
       "    <tr>\n",
       "      <th>17</th>\n",
       "      <td>09 Sep</td>\n",
       "      <td>Transfers</td>\n",
       "      <td>0.085336</td>\n",
       "    </tr>\n",
       "    <tr>\n",
       "      <th>18</th>\n",
       "      <td>10 Oct</td>\n",
       "      <td>Transfers</td>\n",
       "      <td>0.071914</td>\n",
       "    </tr>\n",
       "    <tr>\n",
       "      <th>19</th>\n",
       "      <td>11 Nov</td>\n",
       "      <td>Transfers</td>\n",
       "      <td>0.492473</td>\n",
       "    </tr>\n",
       "    <tr>\n",
       "      <th>20</th>\n",
       "      <td>12 Dec</td>\n",
       "      <td>Transfers</td>\n",
       "      <td>0.483177</td>\n",
       "    </tr>\n",
       "    <tr>\n",
       "      <th>21</th>\n",
       "      <td>06 Jun</td>\n",
       "      <td>Transport</td>\n",
       "      <td>0.033966</td>\n",
       "    </tr>\n",
       "    <tr>\n",
       "      <th>22</th>\n",
       "      <td>07 Jul</td>\n",
       "      <td>Transport</td>\n",
       "      <td>0.079642</td>\n",
       "    </tr>\n",
       "    <tr>\n",
       "      <th>23</th>\n",
       "      <td>08 Aug</td>\n",
       "      <td>Transport</td>\n",
       "      <td>0.088750</td>\n",
       "    </tr>\n",
       "    <tr>\n",
       "      <th>24</th>\n",
       "      <td>09 Sep</td>\n",
       "      <td>Transport</td>\n",
       "      <td>0.149532</td>\n",
       "    </tr>\n",
       "    <tr>\n",
       "      <th>25</th>\n",
       "      <td>10 Oct</td>\n",
       "      <td>Transport</td>\n",
       "      <td>0.162536</td>\n",
       "    </tr>\n",
       "    <tr>\n",
       "      <th>26</th>\n",
       "      <td>11 Nov</td>\n",
       "      <td>Transport</td>\n",
       "      <td>0.095033</td>\n",
       "    </tr>\n",
       "    <tr>\n",
       "      <th>27</th>\n",
       "      <td>12 Dec</td>\n",
       "      <td>Transport</td>\n",
       "      <td>0.125127</td>\n",
       "    </tr>\n",
       "  </tbody>\n",
       "</table>\n",
       "</div>"
      ],
      "text/plain": [
       "     Month   Category     value\n",
       "0   06 Jun        F&B  0.429434\n",
       "1   07 Jul        F&B  0.386827\n",
       "2   08 Aug        F&B  0.170040\n",
       "3   09 Sep        F&B  0.293689\n",
       "4   10 Oct        F&B  0.219120\n",
       "5   11 Nov        F&B  0.116830\n",
       "6   12 Dec        F&B  0.040909\n",
       "7   06 Jun   Shopping  0.536600\n",
       "8   07 Jul   Shopping  0.495696\n",
       "9   08 Aug   Shopping  0.549202\n",
       "10  09 Sep   Shopping  0.471443\n",
       "11  10 Oct   Shopping  0.546430\n",
       "12  11 Nov   Shopping  0.295664\n",
       "13  12 Dec   Shopping  0.350787\n",
       "14  06 Jun  Transfers  0.000000\n",
       "15  07 Jul  Transfers  0.037835\n",
       "16  08 Aug  Transfers  0.192008\n",
       "17  09 Sep  Transfers  0.085336\n",
       "18  10 Oct  Transfers  0.071914\n",
       "19  11 Nov  Transfers  0.492473\n",
       "20  12 Dec  Transfers  0.483177\n",
       "21  06 Jun  Transport  0.033966\n",
       "22  07 Jul  Transport  0.079642\n",
       "23  08 Aug  Transport  0.088750\n",
       "24  09 Sep  Transport  0.149532\n",
       "25  10 Oct  Transport  0.162536\n",
       "26  11 Nov  Transport  0.095033\n",
       "27  12 Dec  Transport  0.125127"
      ]
     },
     "execution_count": 261,
     "metadata": {},
     "output_type": "execute_result"
    }
   ],
   "source": [
    "matrix1"
   ]
  },
  {
   "cell_type": "code",
   "execution_count": 262,
   "metadata": {},
   "outputs": [],
   "source": [
    "def change_label(month):\n",
    "    return sum(df[df[\"Month\"]==month].values[0][1:])\n",
    "matrix1[\"Month\"] = matrix1[\"Month\"].apply(change_label)"
   ]
  },
  {
   "cell_type": "code",
   "execution_count": 263,
   "metadata": {},
   "outputs": [
    {
     "data": {
      "text/html": [
       "<div>\n",
       "<style scoped>\n",
       "    .dataframe tbody tr th:only-of-type {\n",
       "        vertical-align: middle;\n",
       "    }\n",
       "\n",
       "    .dataframe tbody tr th {\n",
       "        vertical-align: top;\n",
       "    }\n",
       "\n",
       "    .dataframe thead th {\n",
       "        text-align: right;\n",
       "    }\n",
       "</style>\n",
       "<table border=\"1\" class=\"dataframe\">\n",
       "  <thead>\n",
       "    <tr style=\"text-align: right;\">\n",
       "      <th></th>\n",
       "      <th>Month</th>\n",
       "      <th>Category</th>\n",
       "      <th>value</th>\n",
       "    </tr>\n",
       "  </thead>\n",
       "  <tbody>\n",
       "    <tr>\n",
       "      <th>0</th>\n",
       "      <td>195.49</td>\n",
       "      <td>F&amp;B</td>\n",
       "      <td>0.429434</td>\n",
       "    </tr>\n",
       "    <tr>\n",
       "      <th>1</th>\n",
       "      <td>317.17</td>\n",
       "      <td>F&amp;B</td>\n",
       "      <td>0.386827</td>\n",
       "    </tr>\n",
       "    <tr>\n",
       "      <th>2</th>\n",
       "      <td>729.24</td>\n",
       "      <td>F&amp;B</td>\n",
       "      <td>0.170040</td>\n",
       "    </tr>\n",
       "    <tr>\n",
       "      <th>3</th>\n",
       "      <td>820.29</td>\n",
       "      <td>F&amp;B</td>\n",
       "      <td>0.293689</td>\n",
       "    </tr>\n",
       "    <tr>\n",
       "      <th>4</th>\n",
       "      <td>876.05</td>\n",
       "      <td>F&amp;B</td>\n",
       "      <td>0.219120</td>\n",
       "    </tr>\n",
       "    <tr>\n",
       "      <th>5</th>\n",
       "      <td>3169.31</td>\n",
       "      <td>F&amp;B</td>\n",
       "      <td>0.116830</td>\n",
       "    </tr>\n",
       "    <tr>\n",
       "      <th>6</th>\n",
       "      <td>1241.78</td>\n",
       "      <td>F&amp;B</td>\n",
       "      <td>0.040909</td>\n",
       "    </tr>\n",
       "    <tr>\n",
       "      <th>7</th>\n",
       "      <td>195.49</td>\n",
       "      <td>Shopping</td>\n",
       "      <td>0.536600</td>\n",
       "    </tr>\n",
       "    <tr>\n",
       "      <th>8</th>\n",
       "      <td>317.17</td>\n",
       "      <td>Shopping</td>\n",
       "      <td>0.495696</td>\n",
       "    </tr>\n",
       "    <tr>\n",
       "      <th>9</th>\n",
       "      <td>729.24</td>\n",
       "      <td>Shopping</td>\n",
       "      <td>0.549202</td>\n",
       "    </tr>\n",
       "    <tr>\n",
       "      <th>10</th>\n",
       "      <td>820.29</td>\n",
       "      <td>Shopping</td>\n",
       "      <td>0.471443</td>\n",
       "    </tr>\n",
       "    <tr>\n",
       "      <th>11</th>\n",
       "      <td>876.05</td>\n",
       "      <td>Shopping</td>\n",
       "      <td>0.546430</td>\n",
       "    </tr>\n",
       "    <tr>\n",
       "      <th>12</th>\n",
       "      <td>3169.31</td>\n",
       "      <td>Shopping</td>\n",
       "      <td>0.295664</td>\n",
       "    </tr>\n",
       "    <tr>\n",
       "      <th>13</th>\n",
       "      <td>1241.78</td>\n",
       "      <td>Shopping</td>\n",
       "      <td>0.350787</td>\n",
       "    </tr>\n",
       "    <tr>\n",
       "      <th>14</th>\n",
       "      <td>195.49</td>\n",
       "      <td>Transfers</td>\n",
       "      <td>0.000000</td>\n",
       "    </tr>\n",
       "    <tr>\n",
       "      <th>15</th>\n",
       "      <td>317.17</td>\n",
       "      <td>Transfers</td>\n",
       "      <td>0.037835</td>\n",
       "    </tr>\n",
       "    <tr>\n",
       "      <th>16</th>\n",
       "      <td>729.24</td>\n",
       "      <td>Transfers</td>\n",
       "      <td>0.192008</td>\n",
       "    </tr>\n",
       "    <tr>\n",
       "      <th>17</th>\n",
       "      <td>820.29</td>\n",
       "      <td>Transfers</td>\n",
       "      <td>0.085336</td>\n",
       "    </tr>\n",
       "    <tr>\n",
       "      <th>18</th>\n",
       "      <td>876.05</td>\n",
       "      <td>Transfers</td>\n",
       "      <td>0.071914</td>\n",
       "    </tr>\n",
       "    <tr>\n",
       "      <th>19</th>\n",
       "      <td>3169.31</td>\n",
       "      <td>Transfers</td>\n",
       "      <td>0.492473</td>\n",
       "    </tr>\n",
       "    <tr>\n",
       "      <th>20</th>\n",
       "      <td>1241.78</td>\n",
       "      <td>Transfers</td>\n",
       "      <td>0.483177</td>\n",
       "    </tr>\n",
       "    <tr>\n",
       "      <th>21</th>\n",
       "      <td>195.49</td>\n",
       "      <td>Transport</td>\n",
       "      <td>0.033966</td>\n",
       "    </tr>\n",
       "    <tr>\n",
       "      <th>22</th>\n",
       "      <td>317.17</td>\n",
       "      <td>Transport</td>\n",
       "      <td>0.079642</td>\n",
       "    </tr>\n",
       "    <tr>\n",
       "      <th>23</th>\n",
       "      <td>729.24</td>\n",
       "      <td>Transport</td>\n",
       "      <td>0.088750</td>\n",
       "    </tr>\n",
       "    <tr>\n",
       "      <th>24</th>\n",
       "      <td>820.29</td>\n",
       "      <td>Transport</td>\n",
       "      <td>0.149532</td>\n",
       "    </tr>\n",
       "    <tr>\n",
       "      <th>25</th>\n",
       "      <td>876.05</td>\n",
       "      <td>Transport</td>\n",
       "      <td>0.162536</td>\n",
       "    </tr>\n",
       "    <tr>\n",
       "      <th>26</th>\n",
       "      <td>3169.31</td>\n",
       "      <td>Transport</td>\n",
       "      <td>0.095033</td>\n",
       "    </tr>\n",
       "    <tr>\n",
       "      <th>27</th>\n",
       "      <td>1241.78</td>\n",
       "      <td>Transport</td>\n",
       "      <td>0.125127</td>\n",
       "    </tr>\n",
       "  </tbody>\n",
       "</table>\n",
       "</div>"
      ],
      "text/plain": [
       "      Month   Category     value\n",
       "0    195.49        F&B  0.429434\n",
       "1    317.17        F&B  0.386827\n",
       "2    729.24        F&B  0.170040\n",
       "3    820.29        F&B  0.293689\n",
       "4    876.05        F&B  0.219120\n",
       "5   3169.31        F&B  0.116830\n",
       "6   1241.78        F&B  0.040909\n",
       "7    195.49   Shopping  0.536600\n",
       "8    317.17   Shopping  0.495696\n",
       "9    729.24   Shopping  0.549202\n",
       "10   820.29   Shopping  0.471443\n",
       "11   876.05   Shopping  0.546430\n",
       "12  3169.31   Shopping  0.295664\n",
       "13  1241.78   Shopping  0.350787\n",
       "14   195.49  Transfers  0.000000\n",
       "15   317.17  Transfers  0.037835\n",
       "16   729.24  Transfers  0.192008\n",
       "17   820.29  Transfers  0.085336\n",
       "18   876.05  Transfers  0.071914\n",
       "19  3169.31  Transfers  0.492473\n",
       "20  1241.78  Transfers  0.483177\n",
       "21   195.49  Transport  0.033966\n",
       "22   317.17  Transport  0.079642\n",
       "23   729.24  Transport  0.088750\n",
       "24   820.29  Transport  0.149532\n",
       "25   876.05  Transport  0.162536\n",
       "26  3169.31  Transport  0.095033\n",
       "27  1241.78  Transport  0.125127"
      ]
     },
     "execution_count": 263,
     "metadata": {},
     "output_type": "execute_result"
    }
   ],
   "source": [
    "matrix1"
   ]
  },
  {
   "cell_type": "code",
   "execution_count": 264,
   "metadata": {},
   "outputs": [
    {
     "data": {
      "application/vnd.plotly.v1+json": {
       "config": {
        "plotlyServerURL": "https://plot.ly"
       },
       "data": [
        {
         "hovertemplate": "Category=F&B<br>Month=%{x}<br>value=%{y}<extra></extra>",
         "legendgroup": "F&B",
         "marker": {
          "color": "#636efa",
          "symbol": "circle"
         },
         "mode": "markers",
         "name": "F&B",
         "orientation": "v",
         "showlegend": true,
         "type": "scatter",
         "x": [
          195.48999999999995,
          317.17,
          729.24,
          820.29,
          876.05,
          3169.31,
          1241.7800000000002
         ],
         "xaxis": "x",
         "y": [
          0.42943373062560747,
          0.38682725352334707,
          0.17004004168723602,
          0.2936888173694669,
          0.2191199132469608,
          0.11682984624413516,
          0.04090901770039781
         ],
         "yaxis": "y"
        },
        {
         "hovertemplate": "Category=Shopping<br>Month=%{x}<br>value=%{y}<extra></extra>",
         "legendgroup": "Shopping",
         "marker": {
          "color": "#EF553B",
          "symbol": "circle"
         },
         "mode": "markers",
         "name": "Shopping",
         "orientation": "v",
         "showlegend": true,
         "type": "scatter",
         "x": [
          195.48999999999995,
          317.17,
          729.24,
          820.29,
          876.05,
          3169.31,
          1241.7800000000002
         ],
         "xaxis": "x",
         "y": [
          0.5366003376131773,
          0.4956963142794086,
          0.549201908836597,
          0.4714430262468151,
          0.546429998287769,
          0.29566372491173154,
          0.350786773824671
         ],
         "yaxis": "y"
        },
        {
         "hovertemplate": "Category=Transfers<br>Month=%{x}<br>value=%{y}<extra></extra>",
         "legendgroup": "Transfers",
         "marker": {
          "color": "#00cc96",
          "symbol": "circle"
         },
         "mode": "markers",
         "name": "Transfers",
         "orientation": "v",
         "showlegend": true,
         "type": "scatter",
         "x": [
          195.48999999999995,
          317.17,
          729.24,
          820.29,
          876.05,
          3169.31,
          1241.7800000000002
         ],
         "xaxis": "x",
         "y": [
          0,
          0.03783459974146357,
          0.19200811804069992,
          0.0853356739689622,
          0.07191370355573312,
          0.49247312506507723,
          0.4831773744141474
         ],
         "yaxis": "y"
        },
        {
         "hovertemplate": "Category=Transport<br>Month=%{x}<br>value=%{y}<extra></extra>",
         "legendgroup": "Transport",
         "marker": {
          "color": "#ab63fa",
          "symbol": "circle"
         },
         "mode": "markers",
         "name": "Transport",
         "orientation": "v",
         "showlegend": true,
         "type": "scatter",
         "x": [
          195.48999999999995,
          317.17,
          729.24,
          820.29,
          876.05,
          3169.31,
          1241.7800000000002
         ],
         "xaxis": "x",
         "y": [
          0.033965931761215415,
          0.0796418324557808,
          0.08874993143546706,
          0.14953248241475575,
          0.16253638490953715,
          0.09503330377905601,
          0.1251268340607837
         ],
         "yaxis": "y"
        }
       ],
       "layout": {
        "legend": {
         "title": {
          "text": "Category"
         },
         "tracegroupgap": 0
        },
        "margin": {
         "t": 60
        },
        "template": {
         "data": {
          "bar": [
           {
            "error_x": {
             "color": "#2a3f5f"
            },
            "error_y": {
             "color": "#2a3f5f"
            },
            "marker": {
             "line": {
              "color": "#E5ECF6",
              "width": 0.5
             },
             "pattern": {
              "fillmode": "overlay",
              "size": 10,
              "solidity": 0.2
             }
            },
            "type": "bar"
           }
          ],
          "barpolar": [
           {
            "marker": {
             "line": {
              "color": "#E5ECF6",
              "width": 0.5
             },
             "pattern": {
              "fillmode": "overlay",
              "size": 10,
              "solidity": 0.2
             }
            },
            "type": "barpolar"
           }
          ],
          "carpet": [
           {
            "aaxis": {
             "endlinecolor": "#2a3f5f",
             "gridcolor": "white",
             "linecolor": "white",
             "minorgridcolor": "white",
             "startlinecolor": "#2a3f5f"
            },
            "baxis": {
             "endlinecolor": "#2a3f5f",
             "gridcolor": "white",
             "linecolor": "white",
             "minorgridcolor": "white",
             "startlinecolor": "#2a3f5f"
            },
            "type": "carpet"
           }
          ],
          "choropleth": [
           {
            "colorbar": {
             "outlinewidth": 0,
             "ticks": ""
            },
            "type": "choropleth"
           }
          ],
          "contour": [
           {
            "colorbar": {
             "outlinewidth": 0,
             "ticks": ""
            },
            "colorscale": [
             [
              0,
              "#0d0887"
             ],
             [
              0.1111111111111111,
              "#46039f"
             ],
             [
              0.2222222222222222,
              "#7201a8"
             ],
             [
              0.3333333333333333,
              "#9c179e"
             ],
             [
              0.4444444444444444,
              "#bd3786"
             ],
             [
              0.5555555555555556,
              "#d8576b"
             ],
             [
              0.6666666666666666,
              "#ed7953"
             ],
             [
              0.7777777777777778,
              "#fb9f3a"
             ],
             [
              0.8888888888888888,
              "#fdca26"
             ],
             [
              1,
              "#f0f921"
             ]
            ],
            "type": "contour"
           }
          ],
          "contourcarpet": [
           {
            "colorbar": {
             "outlinewidth": 0,
             "ticks": ""
            },
            "type": "contourcarpet"
           }
          ],
          "heatmap": [
           {
            "colorbar": {
             "outlinewidth": 0,
             "ticks": ""
            },
            "colorscale": [
             [
              0,
              "#0d0887"
             ],
             [
              0.1111111111111111,
              "#46039f"
             ],
             [
              0.2222222222222222,
              "#7201a8"
             ],
             [
              0.3333333333333333,
              "#9c179e"
             ],
             [
              0.4444444444444444,
              "#bd3786"
             ],
             [
              0.5555555555555556,
              "#d8576b"
             ],
             [
              0.6666666666666666,
              "#ed7953"
             ],
             [
              0.7777777777777778,
              "#fb9f3a"
             ],
             [
              0.8888888888888888,
              "#fdca26"
             ],
             [
              1,
              "#f0f921"
             ]
            ],
            "type": "heatmap"
           }
          ],
          "heatmapgl": [
           {
            "colorbar": {
             "outlinewidth": 0,
             "ticks": ""
            },
            "colorscale": [
             [
              0,
              "#0d0887"
             ],
             [
              0.1111111111111111,
              "#46039f"
             ],
             [
              0.2222222222222222,
              "#7201a8"
             ],
             [
              0.3333333333333333,
              "#9c179e"
             ],
             [
              0.4444444444444444,
              "#bd3786"
             ],
             [
              0.5555555555555556,
              "#d8576b"
             ],
             [
              0.6666666666666666,
              "#ed7953"
             ],
             [
              0.7777777777777778,
              "#fb9f3a"
             ],
             [
              0.8888888888888888,
              "#fdca26"
             ],
             [
              1,
              "#f0f921"
             ]
            ],
            "type": "heatmapgl"
           }
          ],
          "histogram": [
           {
            "marker": {
             "pattern": {
              "fillmode": "overlay",
              "size": 10,
              "solidity": 0.2
             }
            },
            "type": "histogram"
           }
          ],
          "histogram2d": [
           {
            "colorbar": {
             "outlinewidth": 0,
             "ticks": ""
            },
            "colorscale": [
             [
              0,
              "#0d0887"
             ],
             [
              0.1111111111111111,
              "#46039f"
             ],
             [
              0.2222222222222222,
              "#7201a8"
             ],
             [
              0.3333333333333333,
              "#9c179e"
             ],
             [
              0.4444444444444444,
              "#bd3786"
             ],
             [
              0.5555555555555556,
              "#d8576b"
             ],
             [
              0.6666666666666666,
              "#ed7953"
             ],
             [
              0.7777777777777778,
              "#fb9f3a"
             ],
             [
              0.8888888888888888,
              "#fdca26"
             ],
             [
              1,
              "#f0f921"
             ]
            ],
            "type": "histogram2d"
           }
          ],
          "histogram2dcontour": [
           {
            "colorbar": {
             "outlinewidth": 0,
             "ticks": ""
            },
            "colorscale": [
             [
              0,
              "#0d0887"
             ],
             [
              0.1111111111111111,
              "#46039f"
             ],
             [
              0.2222222222222222,
              "#7201a8"
             ],
             [
              0.3333333333333333,
              "#9c179e"
             ],
             [
              0.4444444444444444,
              "#bd3786"
             ],
             [
              0.5555555555555556,
              "#d8576b"
             ],
             [
              0.6666666666666666,
              "#ed7953"
             ],
             [
              0.7777777777777778,
              "#fb9f3a"
             ],
             [
              0.8888888888888888,
              "#fdca26"
             ],
             [
              1,
              "#f0f921"
             ]
            ],
            "type": "histogram2dcontour"
           }
          ],
          "mesh3d": [
           {
            "colorbar": {
             "outlinewidth": 0,
             "ticks": ""
            },
            "type": "mesh3d"
           }
          ],
          "parcoords": [
           {
            "line": {
             "colorbar": {
              "outlinewidth": 0,
              "ticks": ""
             }
            },
            "type": "parcoords"
           }
          ],
          "pie": [
           {
            "automargin": true,
            "type": "pie"
           }
          ],
          "scatter": [
           {
            "fillpattern": {
             "fillmode": "overlay",
             "size": 10,
             "solidity": 0.2
            },
            "type": "scatter"
           }
          ],
          "scatter3d": [
           {
            "line": {
             "colorbar": {
              "outlinewidth": 0,
              "ticks": ""
             }
            },
            "marker": {
             "colorbar": {
              "outlinewidth": 0,
              "ticks": ""
             }
            },
            "type": "scatter3d"
           }
          ],
          "scattercarpet": [
           {
            "marker": {
             "colorbar": {
              "outlinewidth": 0,
              "ticks": ""
             }
            },
            "type": "scattercarpet"
           }
          ],
          "scattergeo": [
           {
            "marker": {
             "colorbar": {
              "outlinewidth": 0,
              "ticks": ""
             }
            },
            "type": "scattergeo"
           }
          ],
          "scattergl": [
           {
            "marker": {
             "colorbar": {
              "outlinewidth": 0,
              "ticks": ""
             }
            },
            "type": "scattergl"
           }
          ],
          "scattermapbox": [
           {
            "marker": {
             "colorbar": {
              "outlinewidth": 0,
              "ticks": ""
             }
            },
            "type": "scattermapbox"
           }
          ],
          "scatterpolar": [
           {
            "marker": {
             "colorbar": {
              "outlinewidth": 0,
              "ticks": ""
             }
            },
            "type": "scatterpolar"
           }
          ],
          "scatterpolargl": [
           {
            "marker": {
             "colorbar": {
              "outlinewidth": 0,
              "ticks": ""
             }
            },
            "type": "scatterpolargl"
           }
          ],
          "scatterternary": [
           {
            "marker": {
             "colorbar": {
              "outlinewidth": 0,
              "ticks": ""
             }
            },
            "type": "scatterternary"
           }
          ],
          "surface": [
           {
            "colorbar": {
             "outlinewidth": 0,
             "ticks": ""
            },
            "colorscale": [
             [
              0,
              "#0d0887"
             ],
             [
              0.1111111111111111,
              "#46039f"
             ],
             [
              0.2222222222222222,
              "#7201a8"
             ],
             [
              0.3333333333333333,
              "#9c179e"
             ],
             [
              0.4444444444444444,
              "#bd3786"
             ],
             [
              0.5555555555555556,
              "#d8576b"
             ],
             [
              0.6666666666666666,
              "#ed7953"
             ],
             [
              0.7777777777777778,
              "#fb9f3a"
             ],
             [
              0.8888888888888888,
              "#fdca26"
             ],
             [
              1,
              "#f0f921"
             ]
            ],
            "type": "surface"
           }
          ],
          "table": [
           {
            "cells": {
             "fill": {
              "color": "#EBF0F8"
             },
             "line": {
              "color": "white"
             }
            },
            "header": {
             "fill": {
              "color": "#C8D4E3"
             },
             "line": {
              "color": "white"
             }
            },
            "type": "table"
           }
          ]
         },
         "layout": {
          "annotationdefaults": {
           "arrowcolor": "#2a3f5f",
           "arrowhead": 0,
           "arrowwidth": 1
          },
          "autotypenumbers": "strict",
          "coloraxis": {
           "colorbar": {
            "outlinewidth": 0,
            "ticks": ""
           }
          },
          "colorscale": {
           "diverging": [
            [
             0,
             "#8e0152"
            ],
            [
             0.1,
             "#c51b7d"
            ],
            [
             0.2,
             "#de77ae"
            ],
            [
             0.3,
             "#f1b6da"
            ],
            [
             0.4,
             "#fde0ef"
            ],
            [
             0.5,
             "#f7f7f7"
            ],
            [
             0.6,
             "#e6f5d0"
            ],
            [
             0.7,
             "#b8e186"
            ],
            [
             0.8,
             "#7fbc41"
            ],
            [
             0.9,
             "#4d9221"
            ],
            [
             1,
             "#276419"
            ]
           ],
           "sequential": [
            [
             0,
             "#0d0887"
            ],
            [
             0.1111111111111111,
             "#46039f"
            ],
            [
             0.2222222222222222,
             "#7201a8"
            ],
            [
             0.3333333333333333,
             "#9c179e"
            ],
            [
             0.4444444444444444,
             "#bd3786"
            ],
            [
             0.5555555555555556,
             "#d8576b"
            ],
            [
             0.6666666666666666,
             "#ed7953"
            ],
            [
             0.7777777777777778,
             "#fb9f3a"
            ],
            [
             0.8888888888888888,
             "#fdca26"
            ],
            [
             1,
             "#f0f921"
            ]
           ],
           "sequentialminus": [
            [
             0,
             "#0d0887"
            ],
            [
             0.1111111111111111,
             "#46039f"
            ],
            [
             0.2222222222222222,
             "#7201a8"
            ],
            [
             0.3333333333333333,
             "#9c179e"
            ],
            [
             0.4444444444444444,
             "#bd3786"
            ],
            [
             0.5555555555555556,
             "#d8576b"
            ],
            [
             0.6666666666666666,
             "#ed7953"
            ],
            [
             0.7777777777777778,
             "#fb9f3a"
            ],
            [
             0.8888888888888888,
             "#fdca26"
            ],
            [
             1,
             "#f0f921"
            ]
           ]
          },
          "colorway": [
           "#636efa",
           "#EF553B",
           "#00cc96",
           "#ab63fa",
           "#FFA15A",
           "#19d3f3",
           "#FF6692",
           "#B6E880",
           "#FF97FF",
           "#FECB52"
          ],
          "font": {
           "color": "#2a3f5f"
          },
          "geo": {
           "bgcolor": "white",
           "lakecolor": "white",
           "landcolor": "#E5ECF6",
           "showlakes": true,
           "showland": true,
           "subunitcolor": "white"
          },
          "hoverlabel": {
           "align": "left"
          },
          "hovermode": "closest",
          "mapbox": {
           "style": "light"
          },
          "paper_bgcolor": "white",
          "plot_bgcolor": "#E5ECF6",
          "polar": {
           "angularaxis": {
            "gridcolor": "white",
            "linecolor": "white",
            "ticks": ""
           },
           "bgcolor": "#E5ECF6",
           "radialaxis": {
            "gridcolor": "white",
            "linecolor": "white",
            "ticks": ""
           }
          },
          "scene": {
           "xaxis": {
            "backgroundcolor": "#E5ECF6",
            "gridcolor": "white",
            "gridwidth": 2,
            "linecolor": "white",
            "showbackground": true,
            "ticks": "",
            "zerolinecolor": "white"
           },
           "yaxis": {
            "backgroundcolor": "#E5ECF6",
            "gridcolor": "white",
            "gridwidth": 2,
            "linecolor": "white",
            "showbackground": true,
            "ticks": "",
            "zerolinecolor": "white"
           },
           "zaxis": {
            "backgroundcolor": "#E5ECF6",
            "gridcolor": "white",
            "gridwidth": 2,
            "linecolor": "white",
            "showbackground": true,
            "ticks": "",
            "zerolinecolor": "white"
           }
          },
          "shapedefaults": {
           "line": {
            "color": "#2a3f5f"
           }
          },
          "ternary": {
           "aaxis": {
            "gridcolor": "white",
            "linecolor": "white",
            "ticks": ""
           },
           "baxis": {
            "gridcolor": "white",
            "linecolor": "white",
            "ticks": ""
           },
           "bgcolor": "#E5ECF6",
           "caxis": {
            "gridcolor": "white",
            "linecolor": "white",
            "ticks": ""
           }
          },
          "title": {
           "x": 0.05
          },
          "xaxis": {
           "automargin": true,
           "gridcolor": "white",
           "linecolor": "white",
           "ticks": "",
           "title": {
            "standoff": 15
           },
           "zerolinecolor": "white",
           "zerolinewidth": 2
          },
          "yaxis": {
           "automargin": true,
           "gridcolor": "white",
           "linecolor": "white",
           "ticks": "",
           "title": {
            "standoff": 15
           },
           "zerolinecolor": "white",
           "zerolinewidth": 2
          }
         }
        },
        "xaxis": {
         "anchor": "y",
         "domain": [
          0,
          1
         ],
         "title": {
          "text": "Month"
         }
        },
        "yaxis": {
         "anchor": "x",
         "domain": [
          0,
          1
         ],
         "title": {
          "text": "value"
         }
        }
       }
      }
     },
     "metadata": {},
     "output_type": "display_data"
    }
   ],
   "source": [
    "import plotly.express as px\n",
    "\n",
    "px.scatter(matrix1, y=\"value\", x=\"Month\", color=\"Category\")"
   ]
  }
 ],
 "metadata": {
  "kernelspec": {
   "display_name": "env",
   "language": "python",
   "name": "python3"
  },
  "language_info": {
   "codemirror_mode": {
    "name": "ipython",
    "version": 3
   },
   "file_extension": ".py",
   "mimetype": "text/x-python",
   "name": "python",
   "nbconvert_exporter": "python",
   "pygments_lexer": "ipython3",
   "version": "3.11.9"
  }
 },
 "nbformat": 4,
 "nbformat_minor": 2
}
